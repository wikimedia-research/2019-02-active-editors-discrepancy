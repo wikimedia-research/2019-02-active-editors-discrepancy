{
 "cells": [
  {
   "cell_type": "code",
   "execution_count": 4,
   "metadata": {},
   "outputs": [],
   "source": [
    "from io import StringIO\n",
    "import pandas as pd\n",
    "import requests\n",
    "from wmfdata import charting, hive\n",
    "from wmfdata.utils import pct_str, sig_figs, pd_display_all"
   ]
  },
  {
   "cell_type": "code",
   "execution_count": 5,
   "metadata": {},
   "outputs": [],
   "source": [
    "%matplotlib inline\n",
    "charting.set_mpl_style()"
   ]
  },
  {
   "cell_type": "markdown",
   "metadata": {},
   "source": [
    "# Replica-based (\"official\") metrics"
   ]
  },
  {
   "cell_type": "markdown",
   "metadata": {},
   "source": [
    "Up until February, active editors were calculated using the following procedure. For the initial run (probably some time in 2018), the procedure was run for all previous time. Then, each month, it was re-run to add data for the previous month.\n",
    "\n",
    "First, we built an [editor month dataset](https://meta.wikimedia.org/wiki/Research:Editor_month_dataset) by running [the update_editor_month query](https://github.com/wikimedia-research/Editing-movement-metrics/blob/3f5322cc1302419114ea7f647fdf4592063c6a35/queries/update_editor_month.sql) (or [a rewritten version](https://github.com/wikimedia-research/Editing-movement-metrics/blob/f6db91f3c64ffc05ae6eeda599755af744928803/queries/update_editor_month.sql) in January 2018) on [a specific selection of wikis](https://github.com/neilpquinn/wmfdata/blob/b0548529c4d39fc37f40fb637025e8a9b428a33f/wmfdata/mariadb.py#L94) sequentially.\n",
    "\n",
    "\n",
    "Then, the active editor numbers were calculated using [an SQL query](https://github.com/wikimedia-research/Editing-movement-metrics/blob/f6db91f3c64ffc05ae6eeda599755af744928803/queries/active_editors.sql) on that editor-month table.\n",
    "\n",
    "This gave the following, which is our currently accepted version of reality:"
   ]
  },
  {
   "cell_type": "code",
   "execution_count": 33,
   "metadata": {},
   "outputs": [
    {
     "data": {
      "text/html": [
       "<div>\n",
       "<table border=\"1\" class=\"dataframe\">\n",
       "  <thead>\n",
       "    <tr style=\"text-align: right;\">\n",
       "      <th></th>\n",
       "      <th>active_editors</th>\n",
       "    </tr>\n",
       "    <tr>\n",
       "      <th>month</th>\n",
       "      <th></th>\n",
       "    </tr>\n",
       "  </thead>\n",
       "  <tbody>\n",
       "    <tr>\n",
       "      <th>2018-09-01</th>\n",
       "      <td>82084.0</td>\n",
       "    </tr>\n",
       "    <tr>\n",
       "      <th>2018-10-01</th>\n",
       "      <td>82567.0</td>\n",
       "    </tr>\n",
       "    <tr>\n",
       "      <th>2018-11-01</th>\n",
       "      <td>82584.0</td>\n",
       "    </tr>\n",
       "    <tr>\n",
       "      <th>2018-12-01</th>\n",
       "      <td>81075.0</td>\n",
       "    </tr>\n",
       "    <tr>\n",
       "      <th>2019-01-01</th>\n",
       "      <td>86776.0</td>\n",
       "    </tr>\n",
       "  </tbody>\n",
       "</table>\n",
       "</div>"
      ],
      "text/plain": [
       "            active_editors\n",
       "month                     \n",
       "2018-09-01         82084.0\n",
       "2018-10-01         82567.0\n",
       "2018-11-01         82584.0\n",
       "2018-12-01         81075.0\n",
       "2019-01-01         86776.0"
      ]
     },
     "execution_count": 33,
     "metadata": {},
     "output_type": "execute_result"
    }
   ],
   "source": [
    "metrics_url = \"https://raw.githubusercontent.com/wikimedia-research/Editing-movement-metrics/75b3251727f8c766e4872f775f57a09632df6500/metrics/metrics.tsv\"\n",
    "metrics_stream = StringIO(requests.get(metrics_url).text)\n",
    "\n",
    "official_ae = pd.read_csv(\n",
    "    metrics_stream,\n",
    "    sep=\"\\t\",\n",
    "    parse_dates=[\"month\"]  \n",
    ").set_index(\"month\")[\"active_editors\"].to_frame()\n",
    "\n",
    "official_ae.tail()"
   ]
  },
  {
   "cell_type": "markdown",
   "metadata": {},
   "source": [
    "# Data Lake-based (\"new\") metrics"
   ]
  },
  {
   "cell_type": "markdown",
   "metadata": {},
   "source": [
    "For February's metrics, we switched to calculating these based on the `mediawiki_history` dataset in the Data Lake. \n",
    "\n",
    "First, we built an editor-month table using the following SQL: \n",
    "```sql\n",
    "insert into neilpquinn.editor_month\n",
    "select\n",
    "    trunc(event_timestamp, \"MONTH\") as month,\n",
    "    wiki_db,\n",
    "    event_user_id as local_user_id,\n",
    "    max(event_user_text) as user_name, -- Some rows incorrectly have a null `event_user_text`\n",
    "    count(*) as edits,\n",
    "    coalesce(\n",
    "        sum(cast(page_namespace_is_content_historical as int)),\n",
    "        0\n",
    "    ) as content_edits,\n",
    "    NULL as mobile_web_edits,\n",
    "    NULL as mobile_app_edits,\n",
    "    NULL as visual_edits,\n",
    "    NULL as ve_source_edits,\n",
    "    (\n",
    "        max(event_user_is_bot_by_name) or \n",
    "        max(array_contains(event_user_groups, \"bot\")) or\n",
    "        max(array_contains(event_user_groups_historical, \"bot\"))\n",
    "    ) as bot,\n",
    "    min(event_user_creation_timestamp) as user_registration\n",
    "from wmf.mediawiki_history\n",
    "where\n",
    "    event_timestamp between \"{start}\" and \"{end}\" and\n",
    "    event_entity = \"revision\" and\n",
    "    event_type = \"create\" and\n",
    "    snapshot = \"{mwh_snapshot}\"\n",
    "group by\n",
    "    trunc(event_timestamp, \"MONTH\"),\n",
    "    wiki_db,\n",
    "    event_user_id\n",
    "```"
   ]
  },
  {
   "cell_type": "code",
   "execution_count": 27,
   "metadata": {},
   "outputs": [],
   "source": [
    "new_ae = (\n",
    "    hive.run(\"\"\"\n",
    "    select\n",
    "        month,\n",
    "        count(*) as active_editors\n",
    "    from (\n",
    "        select\n",
    "            cast(month as date) as month,\n",
    "            user_name,\n",
    "            sum(content_edits) as content_edits,\n",
    "            max(bot) as bot\n",
    "        from neilpquinn.editor_month\n",
    "        where\n",
    "            month < \"2019-02-01\" and\n",
    "            local_user_id != 0\n",
    "        group by month, user_name\n",
    "    ) global_edits\n",
    "    where\n",
    "        content_edits >= 5 and\n",
    "        (not bot or user_name in (\"Paucabot\", \"Niabot\", \"Marbot\"))\n",
    "    group by month\n",
    "    \"\"\")\n",
    "    .assign(month=lambda df: pd.to_datetime(df[\"month\"]))\n",
    "    .set_index(\"month\")\n",
    ")"
   ]
  },
  {
   "cell_type": "markdown",
   "metadata": {},
   "source": [
    "These differ a LOT from the replica-based metrics."
   ]
  },
  {
   "cell_type": "code",
   "execution_count": 34,
   "metadata": {},
   "outputs": [
    {
     "data": {
      "image/png": "[encoded data removed]",
      "text/plain": [
       "<Figure size 1008x504 with 1 Axes>"
      ]
     },
     "metadata": {
      "needs_background": "light"
     },
     "output_type": "display_data"
    }
   ],
   "source": [
    "(new_ae - official_ae).plot(title=\"Deviation of 'new' active editors from 'official'\");"
   ]
  },
  {
   "cell_type": "markdown",
   "metadata": {},
   "source": [
    "# Load editor month datasets for comparisons"
   ]
  },
  {
   "cell_type": "markdown",
   "metadata": {},
   "source": [
    "Let's directly compare the official version of the dataset with the new one (tweaked to eliminate a few obvious differences). "
   ]
  },
  {
   "cell_type": "code",
   "execution_count": null,
   "metadata": {},
   "outputs": [],
   "source": [
    "staging_host = !analytics-mysql -d staging --print-target\n",
    "staging_host = staging_host[0]\n",
    "jdbc_uri = \"jdbc:mysql://\" + staging_host + \"/staging\"\n",
    "cnf_path = \"/etc/mysql/conf.d/research-client.cnf\"\n",
    "sqoop_query = \"\"\"\n",
    "select\n",
    "    convert(wiki using utf8) as wiki,\n",
    "    cast(month as datetime) as month,\n",
    "    local_user_id,\n",
    "    convert(user_name using utf8) as user_name,\n",
    "    edits,\n",
    "    content_edits,\n",
    "    bot_flag,\n",
    "    user_registration\n",
    "from editor_month\n",
    "where $CONDITIONS\n",
    "\"\"\"\n",
    "\n",
    "!sqoop import --connect {jdbc_uri} --connection-param-file {cnf_path} --query '{sqoop_query}' \\\n",
    "--split-by local_user_id --target-dir /user/neilpquinn-wmf/editor_month_official_raw \\\n",
    "--hive-import --hive-table neilpquinn.editor_month_official \\\n",
    "--map-column-hive month=timestamp,user_registration=timestamp"
   ]
  },
  {
   "cell_type": "code",
   "execution_count": 407,
   "metadata": {},
   "outputs": [],
   "source": [
    "hive.run([\"\"\"\n",
    "CREATE TABLE IF NOT EXISTS neilpquinn.editor_month_new (\n",
    "  `wiki` STRING,\n",
    "  `month` TIMESTAMP, -- Hive 1.1 does not support the DATE type\n",
    "  `local_user_id` BIGINT,\n",
    "  `user_name` STRING,\n",
    "  `edits` BIGINT,\n",
    "  `content_edits` BIGINT,\n",
    "  `bot_flag` BOOLEAN,\n",
    "  `user_registration` TIMESTAMP\n",
    ") \n",
    "STORED AS PARQUET\n",
    "\"\"\", \"\"\"\n",
    "insert into neilpquinn.editor_month_new\n",
    "select\n",
    "    wiki_db as wiki,\n",
    "    trunc(event_timestamp, \"MONTH\") as month,\n",
    "    event_user_id as local_user_id,\n",
    "    max(event_user_text) as user_name, -- Some rows incorrectly have a null `event_user_text`\n",
    "    count(*) as edits,\n",
    "    coalesce(\n",
    "        sum(cast(page_namespace_is_content_historical as int)),\n",
    "        0\n",
    "    ) as content_edits,\n",
    "    (\n",
    "        max(array_contains(event_user_groups, \"bot\")) or \n",
    "        max(array_contains(event_user_groups_historical, \"bot\"))\n",
    "    ) as bot,\n",
    "    min(event_user_creation_timestamp) as user_registration\n",
    "from wmf.mediawiki_history\n",
    "where\n",
    "    event_timestamp < \"2019-02-01\" and\n",
    "    event_entity = \"revision\" and\n",
    "    event_type = \"create\" and\n",
    "    snapshot = \"2019-03\"\n",
    "group by\n",
    "    trunc(event_timestamp, \"MONTH\"),\n",
    "    wiki_db,\n",
    "    event_user_id\n",
    "\"\"\"])"
   ]
  },
  {
   "cell_type": "markdown",
   "metadata": {},
   "source": [
    "Let's make sure these datasets have the same active editors discrepancy."
   ]
  },
  {
   "cell_type": "code",
   "execution_count": 408,
   "metadata": {},
   "outputs": [],
   "source": [
    "ae_query = \"\"\"\n",
    "select\n",
    "    month,\n",
    "    count(*) as active_editors\n",
    "from (\n",
    "    select\n",
    "        cast(month as date) as month,\n",
    "        user_name,\n",
    "        sum(content_edits) as content_edits,\n",
    "        max(bot_flag) as bot_flag\n",
    "    from neilpquinn.{table}\n",
    "    where \n",
    "        local_user_id != 0\n",
    "    group by month, user_name\n",
    ") global_edits\n",
    "where\n",
    "    content_edits >= 5 and\n",
    "    not bot_flag and \n",
    "    user_name not regexp \"bot\\\\b\"\n",
    "group by month\n",
    "\"\"\"\n",
    "\n",
    "emo_ae_query = ae_query.format(table=\"editor_month_official\")\n",
    "emn_ae_query = ae_query.format(table=\"editor_month_new\")\n",
    "\n",
    "emo_ae = hive.run(emo_ae_query).assign(month=lambda df: pd.to_datetime(df[\"month\"])).set_index(\"month\")\n",
    "emn_ae = hive.run(emn_ae_query).assign(month=lambda df: pd.to_datetime(df[\"month\"])).set_index(\"month\")"
   ]
  },
  {
   "cell_type": "markdown",
   "metadata": {},
   "source": [
    "Yup, it's the same. So we can proceed to compare just these two datasets."
   ]
  },
  {
   "cell_type": "code",
   "execution_count": 410,
   "metadata": {},
   "outputs": [
    {
     "data": {
      "image/png": "[encoded data removed]",
      "text/plain": [
       "<Figure size 1008x504 with 1 Axes>"
      ]
     },
     "metadata": {},
     "output_type": "display_data"
    }
   ],
   "source": [
    "(emn_ae - emo_ae)[\"2001\":].plot(\n",
    "    title=\"Deviation of 'new' active editors from 'official'\"\n",
    ");"
   ]
  },
  {
   "cell_type": "markdown",
   "metadata": {},
   "source": [
    "# Wiki inclusion"
   ]
  },
  {
   "cell_type": "markdown",
   "metadata": {},
   "source": [
    "It looks there are discrepancies in which wikis are included."
   ]
  },
  {
   "cell_type": "code",
   "execution_count": 412,
   "metadata": {},
   "outputs": [],
   "source": [
    "emo_wikis = hive.run(\"\"\"\n",
    "select distinct wiki\n",
    "from neilpquinn.editor_month_official\n",
    "\"\"\")\n",
    "emo_wikis = set(emo_wikis[\"wiki\"].unique())\n",
    "\n",
    "\n",
    "emn_wikis = hive.run(\"\"\"\n",
    "select distinct wiki\n",
    "from neilpquinn.editor_month_new\n",
    "\"\"\")\n",
    "emn_wikis = set(emn_wikis[\"wiki\"].unique())"
   ]
  },
  {
   "cell_type": "markdown",
   "metadata": {},
   "source": [
    "The extra wikis included in `editor_month_official` seem to be a miscellaneous collection that are [mistakenly not included](https://phabricator.wikimedia.org/T220456) in `mediawiki_history`."
   ]
  },
  {
   "cell_type": "code",
   "execution_count": 414,
   "metadata": {},
   "outputs": [
    {
     "data": {
      "text/plain": [
       "119"
      ]
     },
     "execution_count": 414,
     "metadata": {},
     "output_type": "execute_result"
    }
   ],
   "source": [
    "extra_emo_wikis = emo_wikis - emn_wikis\n",
    "len(extra_emo_wikis)"
   ]
  },
  {
   "cell_type": "markdown",
   "metadata": {},
   "source": [
    "The extra wikis included in `editor_month_new` are a mixture of test wikis, infrastructure wikis (`donatewiki`, `loginwiki`), and affiliate wikis that are only there because I forgot to port the logic excluding them from the replicas-based pipeline to the Data Lake-based one."
   ]
  },
  {
   "cell_type": "code",
   "execution_count": 415,
   "metadata": {},
   "outputs": [
    {
     "data": {
      "text/plain": [
       "34"
      ]
     },
     "execution_count": 415,
     "metadata": {},
     "output_type": "execute_result"
    }
   ],
   "source": [
    "extra_emn_wikis = emn_wikis - emo_wikis\n",
    "len(extra_emn_wikis)"
   ]
  },
  {
   "cell_type": "markdown",
   "metadata": {},
   "source": [
    "Let's see what the discrepancy looks like when we exclude these extra wikis."
   ]
  },
  {
   "cell_type": "code",
   "execution_count": 421,
   "metadata": {},
   "outputs": [],
   "source": [
    "ae_same_wikis_sql = \"\"\"\n",
    "select\n",
    "    month,\n",
    "    count(*) as active_editors\n",
    "from (\n",
    "    select\n",
    "        cast(month as date) as month,\n",
    "        user_name,\n",
    "        sum(content_edits) as content_edits,\n",
    "        max(bot_flag) as bot_flag\n",
    "    from neilpquinn.{table}\n",
    "    where \n",
    "        local_user_id != 0 and\n",
    "        wiki not in {excluded_wikis!r}\n",
    "    group by month, user_name\n",
    ") global_edits\n",
    "where\n",
    "    content_edits >= 5 and\n",
    "    not bot_flag and \n",
    "    user_name not regexp \"bot\\\\b\"\n",
    "group by month\n",
    "\"\"\"\n",
    "\n",
    "emo_ae_same_wikis_sql = ae_same_wikis_sql.format(\n",
    "    table=\"editor_month_official\",\n",
    "    excluded_wikis=tuple(extra_emo_wikis)\n",
    ")\n",
    "\n",
    "emn_ae_same_wikis_sql = ae_same_wikis_sql.format(\n",
    "    table=\"editor_month_new\",\n",
    "    excluded_wikis=tuple(extra_emn_wikis)\n",
    ")\n",
    "\n",
    "emo_ae_same_wikis = hive.run(emo_ae_same_wikis_sql).assign(\n",
    "    month=lambda df: pd.to_datetime(df[\"month\"])\n",
    ").set_index(\"month\")\n",
    "\n",
    "emn_ae_same_wikis = hive.run(emn_ae_same_wikis_sql).assign(\n",
    "    month=lambda df: pd.to_datetime(df[\"month\"])\n",
    ").set_index(\"month\")"
   ]
  },
  {
   "cell_type": "markdown",
   "metadata": {},
   "source": [
    "Basically no change, which makes sense when you consider that all the wikis involved are tiny."
   ]
  },
  {
   "cell_type": "code",
   "execution_count": 422,
   "metadata": {},
   "outputs": [
    {
     "data": {
      "image/png": "[encoded data removed]",
      "text/plain": [
       "<Figure size 1008x504 with 1 Axes>"
      ]
     },
     "metadata": {},
     "output_type": "display_data"
    }
   ],
   "source": [
    "(emn_ae_same_wikis - emo_ae_same_wikis)[\"2001\":].plot(\n",
    "    title=\"Deviation of 'new' active editors from 'official'\"\n",
    ");"
   ]
  },
  {
   "cell_type": "markdown",
   "metadata": {},
   "source": [
    "# Unmatched rows"
   ]
  },
  {
   "cell_type": "markdown",
   "metadata": {},
   "source": [
    "If we use the same selection of wikis, `editor_month_new` has about 476,000 more rows than `editor_month_official`."
   ]
  },
  {
   "cell_type": "code",
   "execution_count": 424,
   "metadata": {},
   "outputs": [],
   "source": [
    "row_count_sql = \"\"\"\n",
    "select count(*)\n",
    "from neilpquinn.{table}\n",
    "where wiki not in {excluded_wikis!r}\n",
    "\"\"\"\n",
    "\n",
    "emo_row_count_sql = row_count_sql.format(\n",
    "    table=\"editor_month_official\",\n",
    "    excluded_wikis=tuple(extra_emo_wikis)\n",
    ")\n",
    "\n",
    "emn_row_count_sql = row_count_sql.format(\n",
    "    table=\"editor_month_new\",\n",
    "    excluded_wikis=tuple(extra_emn_wikis)\n",
    ")"
   ]
  },
  {
   "cell_type": "code",
   "execution_count": 439,
   "metadata": {},
   "outputs": [
    {
     "data": {
      "text/html": [
       "<div>\n",
       "<style scoped>\n",
       "    .dataframe tbody tr th:only-of-type {\n",
       "        vertical-align: middle;\n",
       "    }\n",
       "\n",
       "    .dataframe tbody tr th {\n",
       "        vertical-align: top;\n",
       "    }\n",
       "\n",
       "    .dataframe thead th {\n",
       "        text-align: right;\n",
       "    }\n",
       "</style>\n",
       "<table border=\"1\" class=\"dataframe\">\n",
       "  <thead>\n",
       "    <tr style=\"text-align: right;\">\n",
       "      <th></th>\n",
       "      <th>_c0</th>\n",
       "    </tr>\n",
       "  </thead>\n",
       "  <tbody>\n",
       "    <tr>\n",
       "      <th>0</th>\n",
       "      <td>58998729</td>\n",
       "    </tr>\n",
       "  </tbody>\n",
       "</table>\n",
       "</div>"
      ],
      "text/plain": [
       "        _c0\n",
       "0  58998729"
      ]
     },
     "execution_count": 439,
     "metadata": {},
     "output_type": "execute_result"
    }
   ],
   "source": [
    "hive.run(emn_row_count_sql)"
   ]
  },
  {
   "cell_type": "code",
   "execution_count": 426,
   "metadata": {},
   "outputs": [
    {
     "data": {
      "text/html": [
       "<div>\n",
       "<style scoped>\n",
       "    .dataframe tbody tr th:only-of-type {\n",
       "        vertical-align: middle;\n",
       "    }\n",
       "\n",
       "    .dataframe tbody tr th {\n",
       "        vertical-align: top;\n",
       "    }\n",
       "\n",
       "    .dataframe thead th {\n",
       "        text-align: right;\n",
       "    }\n",
       "</style>\n",
       "<table border=\"1\" class=\"dataframe\">\n",
       "  <thead>\n",
       "    <tr style=\"text-align: right;\">\n",
       "      <th></th>\n",
       "      <th>_c0</th>\n",
       "    </tr>\n",
       "  </thead>\n",
       "  <tbody>\n",
       "    <tr>\n",
       "      <th>0</th>\n",
       "      <td>58522865</td>\n",
       "    </tr>\n",
       "  </tbody>\n",
       "</table>\n",
       "</div>"
      ],
      "text/plain": [
       "        _c0\n",
       "0  58522865"
      ]
     },
     "execution_count": 426,
     "metadata": {},
     "output_type": "execute_result"
    }
   ],
   "source": [
    "hive.run(emo_row_count_sql)"
   ]
  },
  {
   "cell_type": "markdown",
   "metadata": {},
   "source": [
    "Let's find the rows that don't match up."
   ]
  },
  {
   "cell_type": "code",
   "execution_count": null,
   "metadata": {},
   "outputs": [],
   "source": [
    "unmatched_rows_sql = \"\"\"\n",
    "select *\n",
    "from neilpquinn.editor_month_official emo\n",
    "full outer join neilpquinn.editor_month_new emn\n",
    "on\n",
    "    emo.month = emn.month and\n",
    "    emo.wiki = emn.wiki and\n",
    "    emo.local_user_id = emn.local_user_id\n",
    "where\n",
    "    coalesce(emo.wiki not in {extra_emo_wikis!r}, true) and\n",
    "    coalesce(emn.wiki not in {extra_emn_wikis!r}, true) and\n",
    "    (emo.local_user_id is null or emn.local_user_id is null) \n",
    "\"\"\".format(\n",
    "    extra_emo_wikis=tuple(extra_emo_wikis),\n",
    "    extra_emn_wikis=tuple(extra_emn_wikis)\n",
    ")\n",
    "\n",
    "unmatched_rows = hive.run([\n",
    "    \"set hive.resultset.use.unique.column.names=true\",\n",
    "    unmatched_rows_sql\n",
    "]).rename(columns=lambda x: x.replace(\".\", \"_\"))"
   ]
  },
  {
   "cell_type": "markdown",
   "metadata": {},
   "source": [
    "This gives us about 522,000 unmatched rows, which is about 46,000 more than the overall row count discrepancy. That suggests that we're mostly talking about rows that don't appear at all in one dataset, not about rows that appear in both dataset but didn't match up.\n",
    "\n",
    "Out of these these unmatched rows, 96% are found only in `editor_month_new` and 4% only in `editor_month_official`."
   ]
  },
  {
   "cell_type": "code",
   "execution_count": 483,
   "metadata": {},
   "outputs": [
    {
     "data": {
      "text/plain": [
       "521998"
      ]
     },
     "execution_count": 483,
     "metadata": {},
     "output_type": "execute_result"
    }
   ],
   "source": [
    "len(unmatched_rows)"
   ]
  },
  {
   "cell_type": "code",
   "execution_count": 484,
   "metadata": {},
   "outputs": [
    {
     "data": {
      "text/plain": [
       "498931"
      ]
     },
     "execution_count": 484,
     "metadata": {},
     "output_type": "execute_result"
    }
   ],
   "source": [
    "emn_only = unmatched_rows.query(\"~emn_wiki.isnull()\")\n",
    "len(emn_only)"
   ]
  },
  {
   "cell_type": "code",
   "execution_count": 485,
   "metadata": {},
   "outputs": [
    {
     "data": {
      "text/plain": [
       "23067"
      ]
     },
     "execution_count": 485,
     "metadata": {},
     "output_type": "execute_result"
    }
   ],
   "source": [
    "emo_only = unmatched_rows.query(\"~emo_wiki.isnull()\")\n",
    "len(emo_only)"
   ]
  },
  {
   "cell_type": "markdown",
   "metadata": {},
   "source": [
    "The rows found only in `editor_month_new` correspond to revisions [imported](https://www.mediawiki.org/wiki/Manual:Importing_XML_dumps) from one wiki to another. \n",
    "\n",
    "The number dropped substantially in the past few years, when `editor_month_official` was being periodically built a month after the fact (unlike the `mediawiki_history`, which is rebuilt completely every month). This suggests that these rows are at least partly a case of \"history\" being changed gradually after the fact."
   ]
  },
  {
   "cell_type": "code",
   "execution_count": 486,
   "metadata": {},
   "outputs": [
    {
     "data": {
      "text/plain": [
       "<matplotlib.axes._subplots.AxesSubplot at 0x7f5ae474b128>"
      ]
     },
     "execution_count": 486,
     "metadata": {},
     "output_type": "execute_result"
    },
    {
     "data": {
      "image/png": "[encoded data removed]",
      "text/plain": [
       "<Figure size 1008x504 with 1 Axes>"
      ]
     },
     "metadata": {},
     "output_type": "display_data"
    }
   ],
   "source": [
    "emn_only.groupby(\"emn_month\")[\"emn_wiki\"].count().plot();"
   ]
  },
  {
   "cell_type": "markdown",
   "metadata": {},
   "source": [
    "The wikis concerned reinforces the idea that these are imported revision. I know dewiki has a policy of importing pages from other wikis before translating them, and it looks like [enwikibooks](https://en.wikibooks.org/wiki/Wikibooks:Requests_for_import) and [simplewiki](https://simple.wikipedia.org/wiki/Wikipedia:Importers) do as well."
   ]
  },
  {
   "cell_type": "code",
   "execution_count": 488,
   "metadata": {},
   "outputs": [
    {
     "data": {
      "text/plain": [
       "emn_wiki\n",
       "dewiki           199388\n",
       "enwikibooks       19982\n",
       "simplewiki        15261\n",
       "mlwiki            14980\n",
       "enwiktionary      14661\n",
       "elwiki             9991\n",
       "enwikiversity      6378\n",
       "zhwikiversity      6198\n",
       "knwiki             6010\n",
       "tewiki             5804\n",
       "bhwiki             5484\n",
       "nowiki             5138\n",
       "hiwiki             4921\n",
       "incubatorwiki      4683\n",
       "enwiki             4509\n",
       "frwikibooks        4493\n",
       "frwikiversity      3879\n",
       "commonswiki        3579\n",
       "dewikivoyage       3553\n",
       "nlwikibooks        3406\n",
       "Name: emn_wiki, dtype: int64"
      ]
     },
     "execution_count": 488,
     "metadata": {},
     "output_type": "execute_result"
    }
   ],
   "source": [
    "emn_only.groupby(\"emn_wiki\")[\"emn_wiki\"].count().sort_values(ascending=False).head(20)"
   ]
  },
  {
   "cell_type": "markdown",
   "metadata": {},
   "source": [
    "Looking at 10 random rows, all ten represent imported revisions."
   ]
  },
  {
   "cell_type": "code",
   "execution_count": 500,
   "metadata": {},
   "outputs": [
    {
     "data": {
      "text/html": [
       "<div>\n",
       "<style scoped>\n",
       "    .dataframe tbody tr th:only-of-type {\n",
       "        vertical-align: middle;\n",
       "    }\n",
       "\n",
       "    .dataframe tbody tr th {\n",
       "        vertical-align: top;\n",
       "    }\n",
       "\n",
       "    .dataframe thead th {\n",
       "        text-align: right;\n",
       "    }\n",
       "</style>\n",
       "<table border=\"1\" class=\"dataframe\">\n",
       "  <thead>\n",
       "    <tr style=\"text-align: right;\">\n",
       "      <th></th>\n",
       "      <th>emn_wiki</th>\n",
       "      <th>emn_month</th>\n",
       "      <th>emn_local_user_id</th>\n",
       "      <th>emn_user_name</th>\n",
       "      <th>emn_edits</th>\n",
       "      <th>emn_content_edits</th>\n",
       "      <th>emn_bot_flag</th>\n",
       "      <th>emn_user_registration</th>\n",
       "    </tr>\n",
       "  </thead>\n",
       "  <tbody>\n",
       "    <tr>\n",
       "      <th>0</th>\n",
       "      <td>elwiki</td>\n",
       "      <td>2010-09-01</td>\n",
       "      <td>210979.0</td>\n",
       "      <td>None</td>\n",
       "      <td>3.0</td>\n",
       "      <td>3.0</td>\n",
       "      <td>False</td>\n",
       "      <td>NaT</td>\n",
       "    </tr>\n",
       "    <tr>\n",
       "      <th>1</th>\n",
       "      <td>dewiki</td>\n",
       "      <td>2004-04-01</td>\n",
       "      <td>2800004.0</td>\n",
       "      <td>None</td>\n",
       "      <td>1.0</td>\n",
       "      <td>0.0</td>\n",
       "      <td>False</td>\n",
       "      <td>NaT</td>\n",
       "    </tr>\n",
       "    <tr>\n",
       "      <th>2</th>\n",
       "      <td>dewiki</td>\n",
       "      <td>2009-04-01</td>\n",
       "      <td>2796314.0</td>\n",
       "      <td>None</td>\n",
       "      <td>18.0</td>\n",
       "      <td>2.0</td>\n",
       "      <td>False</td>\n",
       "      <td>NaT</td>\n",
       "    </tr>\n",
       "    <tr>\n",
       "      <th>3</th>\n",
       "      <td>zhwikiversity</td>\n",
       "      <td>2018-02-01</td>\n",
       "      <td>645.0</td>\n",
       "      <td>None</td>\n",
       "      <td>1.0</td>\n",
       "      <td>0.0</td>\n",
       "      <td>False</td>\n",
       "      <td>NaT</td>\n",
       "    </tr>\n",
       "    <tr>\n",
       "      <th>4</th>\n",
       "      <td>itwikivoyage</td>\n",
       "      <td>2016-09-01</td>\n",
       "      <td>12594.0</td>\n",
       "      <td>Bujo</td>\n",
       "      <td>1.0</td>\n",
       "      <td>0.0</td>\n",
       "      <td>False</td>\n",
       "      <td>2015-09-23 20:46:39</td>\n",
       "    </tr>\n",
       "    <tr>\n",
       "      <th>5</th>\n",
       "      <td>mlwikisource</td>\n",
       "      <td>2009-03-01</td>\n",
       "      <td>7748.0</td>\n",
       "      <td>None</td>\n",
       "      <td>1.0</td>\n",
       "      <td>0.0</td>\n",
       "      <td>False</td>\n",
       "      <td>NaT</td>\n",
       "    </tr>\n",
       "    <tr>\n",
       "      <th>6</th>\n",
       "      <td>dewiki</td>\n",
       "      <td>2011-10-01</td>\n",
       "      <td>828461.0</td>\n",
       "      <td>Pierre Bona</td>\n",
       "      <td>1.0</td>\n",
       "      <td>0.0</td>\n",
       "      <td>False</td>\n",
       "      <td>2009-09-13 16:58:43</td>\n",
       "    </tr>\n",
       "    <tr>\n",
       "      <th>7</th>\n",
       "      <td>dewiki</td>\n",
       "      <td>2007-03-01</td>\n",
       "      <td>2807242.0</td>\n",
       "      <td>None</td>\n",
       "      <td>1.0</td>\n",
       "      <td>0.0</td>\n",
       "      <td>False</td>\n",
       "      <td>NaT</td>\n",
       "    </tr>\n",
       "    <tr>\n",
       "      <th>8</th>\n",
       "      <td>elwiki</td>\n",
       "      <td>2007-12-01</td>\n",
       "      <td>16985.0</td>\n",
       "      <td>None</td>\n",
       "      <td>1.0</td>\n",
       "      <td>0.0</td>\n",
       "      <td>False</td>\n",
       "      <td>NaT</td>\n",
       "    </tr>\n",
       "    <tr>\n",
       "      <th>9</th>\n",
       "      <td>itwiktionary</td>\n",
       "      <td>2004-09-01</td>\n",
       "      <td>58637.0</td>\n",
       "      <td>None</td>\n",
       "      <td>7.0</td>\n",
       "      <td>3.0</td>\n",
       "      <td>False</td>\n",
       "      <td>NaT</td>\n",
       "    </tr>\n",
       "  </tbody>\n",
       "</table>\n",
       "</div>"
      ],
      "text/plain": [
       "        emn_wiki  emn_month  emn_local_user_id emn_user_name  emn_edits  \\\n",
       "0         elwiki 2010-09-01           210979.0          None        3.0   \n",
       "1         dewiki 2004-04-01          2800004.0          None        1.0   \n",
       "2         dewiki 2009-04-01          2796314.0          None       18.0   \n",
       "3  zhwikiversity 2018-02-01              645.0          None        1.0   \n",
       "4   itwikivoyage 2016-09-01            12594.0          Bujo        1.0   \n",
       "5   mlwikisource 2009-03-01             7748.0          None        1.0   \n",
       "6         dewiki 2011-10-01           828461.0   Pierre Bona        1.0   \n",
       "7         dewiki 2007-03-01          2807242.0          None        1.0   \n",
       "8         elwiki 2007-12-01            16985.0          None        1.0   \n",
       "9   itwiktionary 2004-09-01            58637.0          None        7.0   \n",
       "\n",
       "   emn_content_edits emn_bot_flag emn_user_registration  \n",
       "0                3.0        False                   NaT  \n",
       "1                0.0        False                   NaT  \n",
       "2                2.0        False                   NaT  \n",
       "3                0.0        False                   NaT  \n",
       "4                0.0        False   2015-09-23 20:46:39  \n",
       "5                0.0        False                   NaT  \n",
       "6                0.0        False   2009-09-13 16:58:43  \n",
       "7                0.0        False                   NaT  \n",
       "8                0.0        False                   NaT  \n",
       "9                3.0        False                   NaT  "
      ]
     },
     "execution_count": 500,
     "metadata": {},
     "output_type": "execute_result"
    }
   ],
   "source": [
    "emn_only.sample(10, random_state=18300941).iloc[:, 8:].reset_index(drop=True)"
   ]
  },
  {
   "cell_type": "code",
   "execution_count": 526,
   "metadata": {},
   "outputs": [
    {
     "data": {
      "text/plain": [
       "<matplotlib.axes._subplots.AxesSubplot at 0x7f5af8955710>"
      ]
     },
     "execution_count": 526,
     "metadata": {},
     "output_type": "execute_result"
    },
    {
     "data": {
      "image/png": "[encoded data removed]",
      "text/plain": [
       "<Figure size 1008x504 with 1 Axes>"
      ]
     },
     "metadata": {},
     "output_type": "display_data"
    }
   ],
   "source": [
    "# Filter with a datetime object because there's a \"0001-11-30\" month which causes all sorts of weirdness\n",
    "year_2001 = pd.to_datetime(\"2001\")\n",
    "emo_only.groupby(\"emo_month\")[\"emo_wiki\"].count()[year_2001:].plot();"
   ]
  },
  {
   "cell_type": "code",
   "execution_count": 528,
   "metadata": {},
   "outputs": [
    {
     "data": {
      "text/plain": [
       "emo_wiki\n",
       "enwiki          9813\n",
       "jawiki          1470\n",
       "dewiki           893\n",
       "ptwiki           564\n",
       "metawiki         518\n",
       "ruwiki           462\n",
       "eswiki           436\n",
       "zhwiki           417\n",
       "frwiki           391\n",
       "trwiki           389\n",
       "commonswiki      378\n",
       "plwiki           358\n",
       "ukwiki           338\n",
       "cswiki           278\n",
       "itwiki           246\n",
       "enwiktionary     246\n",
       "rowiki           216\n",
       "hewiki           172\n",
       "nlwiki           156\n",
       "simplewiki       145\n",
       "Name: emo_wiki, dtype: int64"
      ]
     },
     "execution_count": 528,
     "metadata": {},
     "output_type": "execute_result"
    }
   ],
   "source": [
    "emo_only.groupby(\"emo_wiki\")[\"emo_wiki\"].count().sort_values(ascending=False).head(20)"
   ]
  },
  {
   "cell_type": "markdown",
   "metadata": {},
   "source": [
    "Looking at 10 random rows, all ten represent revisions where the user name was [revision deleted](https://www.mediawiki.org/wiki/Manual:RevisionDelete)."
   ]
  },
  {
   "cell_type": "code",
   "execution_count": 530,
   "metadata": {},
   "outputs": [
    {
     "data": {
      "text/html": [
       "<div>\n",
       "<style scoped>\n",
       "    .dataframe tbody tr th:only-of-type {\n",
       "        vertical-align: middle;\n",
       "    }\n",
       "\n",
       "    .dataframe tbody tr th {\n",
       "        vertical-align: top;\n",
       "    }\n",
       "\n",
       "    .dataframe thead th {\n",
       "        text-align: right;\n",
       "    }\n",
       "</style>\n",
       "<table border=\"1\" class=\"dataframe\">\n",
       "  <thead>\n",
       "    <tr style=\"text-align: right;\">\n",
       "      <th></th>\n",
       "      <th>emo_wiki</th>\n",
       "      <th>emo_month</th>\n",
       "      <th>emo_local_user_id</th>\n",
       "      <th>emo_user_name</th>\n",
       "      <th>emo_edits</th>\n",
       "      <th>emo_content_edits</th>\n",
       "      <th>emo_bot_flag</th>\n",
       "      <th>emo_user_registration</th>\n",
       "    </tr>\n",
       "  </thead>\n",
       "  <tbody>\n",
       "    <tr>\n",
       "      <th>0</th>\n",
       "      <td>enwiki</td>\n",
       "      <td>2013-07-01 00:00:00</td>\n",
       "      <td>19329592.0</td>\n",
       "      <td>Darkstyle007</td>\n",
       "      <td>1.0</td>\n",
       "      <td>0.0</td>\n",
       "      <td>False</td>\n",
       "      <td>2013-07-12 10:51:31</td>\n",
       "    </tr>\n",
       "    <tr>\n",
       "      <th>1</th>\n",
       "      <td>eswiki</td>\n",
       "      <td>2017-02-01 00:00:00</td>\n",
       "      <td>4525644.0</td>\n",
       "      <td>Taichi se llama Cleofer Fernandez y nacio el 1...</td>\n",
       "      <td>6.0</td>\n",
       "      <td>2.0</td>\n",
       "      <td>False</td>\n",
       "      <td>2017-02-22 22:58:48</td>\n",
       "    </tr>\n",
       "    <tr>\n",
       "      <th>2</th>\n",
       "      <td>simplewiki</td>\n",
       "      <td>2013-06-01 00:00:00</td>\n",
       "      <td>312070.0</td>\n",
       "      <td>Newcallgirl9650167345</td>\n",
       "      <td>1.0</td>\n",
       "      <td>0.0</td>\n",
       "      <td>False</td>\n",
       "      <td>2013-06-05 12:17:05</td>\n",
       "    </tr>\n",
       "    <tr>\n",
       "      <th>3</th>\n",
       "      <td>eswikinews</td>\n",
       "      <td>2016-10-01 00:00:00</td>\n",
       "      <td>25945.0</td>\n",
       "      <td>My Password Is 4LV4R0 N0LlM4</td>\n",
       "      <td>3.0</td>\n",
       "      <td>0.0</td>\n",
       "      <td>False</td>\n",
       "      <td>2016-10-13 03:09:55</td>\n",
       "    </tr>\n",
       "    <tr>\n",
       "      <th>4</th>\n",
       "      <td>enwiki</td>\n",
       "      <td>2009-06-01 00:00:00</td>\n",
       "      <td>9849727.0</td>\n",
       "      <td>Yobronzino</td>\n",
       "      <td>29.0</td>\n",
       "      <td>0.0</td>\n",
       "      <td>False</td>\n",
       "      <td>2009-06-06 19:05:20</td>\n",
       "    </tr>\n",
       "    <tr>\n",
       "      <th>5</th>\n",
       "      <td>enwiki</td>\n",
       "      <td>2016-11-01 00:00:00</td>\n",
       "      <td>29781174.0</td>\n",
       "      <td>Anson Antony ASN</td>\n",
       "      <td>1.0</td>\n",
       "      <td>0.0</td>\n",
       "      <td>False</td>\n",
       "      <td>2016-11-30 07:00:16</td>\n",
       "    </tr>\n",
       "    <tr>\n",
       "      <th>6</th>\n",
       "      <td>eswiki</td>\n",
       "      <td>2015-08-01 00:00:00</td>\n",
       "      <td>3845166.0</td>\n",
       "      <td>La re putisimamadrequeteremilpario</td>\n",
       "      <td>1.0</td>\n",
       "      <td>0.0</td>\n",
       "      <td>False</td>\n",
       "      <td>2015-07-10 04:13:57</td>\n",
       "    </tr>\n",
       "    <tr>\n",
       "      <th>7</th>\n",
       "      <td>enwiki</td>\n",
       "      <td>2013-09-01 00:00:00</td>\n",
       "      <td>19731070.0</td>\n",
       "      <td>Nekama6</td>\n",
       "      <td>1.0</td>\n",
       "      <td>0.0</td>\n",
       "      <td>False</td>\n",
       "      <td>2013-09-15 19:48:11</td>\n",
       "    </tr>\n",
       "    <tr>\n",
       "      <th>8</th>\n",
       "      <td>enwiki</td>\n",
       "      <td>2012-06-01 00:00:00</td>\n",
       "      <td>16906819.0</td>\n",
       "      <td>Deepak $harma</td>\n",
       "      <td>4.0</td>\n",
       "      <td>0.0</td>\n",
       "      <td>False</td>\n",
       "      <td>2012-05-30 04:36:11</td>\n",
       "    </tr>\n",
       "    <tr>\n",
       "      <th>9</th>\n",
       "      <td>jawiki</td>\n",
       "      <td>2017-11-01 00:00:00</td>\n",
       "      <td>1276845.0</td>\n",
       "      <td>生計に行き詰まって万引き・大空直美</td>\n",
       "      <td>7.0</td>\n",
       "      <td>6.0</td>\n",
       "      <td>False</td>\n",
       "      <td>2017-11-24 12:14:29</td>\n",
       "    </tr>\n",
       "  </tbody>\n",
       "</table>\n",
       "</div>"
      ],
      "text/plain": [
       "     emo_wiki            emo_month  emo_local_user_id  \\\n",
       "0      enwiki  2013-07-01 00:00:00         19329592.0   \n",
       "1      eswiki  2017-02-01 00:00:00          4525644.0   \n",
       "2  simplewiki  2013-06-01 00:00:00           312070.0   \n",
       "3  eswikinews  2016-10-01 00:00:00            25945.0   \n",
       "4      enwiki  2009-06-01 00:00:00          9849727.0   \n",
       "5      enwiki  2016-11-01 00:00:00         29781174.0   \n",
       "6      eswiki  2015-08-01 00:00:00          3845166.0   \n",
       "7      enwiki  2013-09-01 00:00:00         19731070.0   \n",
       "8      enwiki  2012-06-01 00:00:00         16906819.0   \n",
       "9      jawiki  2017-11-01 00:00:00          1276845.0   \n",
       "\n",
       "                                       emo_user_name  emo_edits  \\\n",
       "0                                       Darkstyle007        1.0   \n",
       "1  Taichi se llama Cleofer Fernandez y nacio el 1...        6.0   \n",
       "2                              Newcallgirl9650167345        1.0   \n",
       "3                       My Password Is 4LV4R0 N0LlM4        3.0   \n",
       "4                                         Yobronzino       29.0   \n",
       "5                                   Anson Antony ASN        1.0   \n",
       "6                 La re putisimamadrequeteremilpario        1.0   \n",
       "7                                            Nekama6        1.0   \n",
       "8                                      Deepak $harma        4.0   \n",
       "9                                  生計に行き詰まって万引き・大空直美        7.0   \n",
       "\n",
       "   emo_content_edits emo_bot_flag emo_user_registration  \n",
       "0                0.0        False   2013-07-12 10:51:31  \n",
       "1                2.0        False   2017-02-22 22:58:48  \n",
       "2                0.0        False   2013-06-05 12:17:05  \n",
       "3                0.0        False   2016-10-13 03:09:55  \n",
       "4                0.0        False   2009-06-06 19:05:20  \n",
       "5                0.0        False   2016-11-30 07:00:16  \n",
       "6                0.0        False   2015-07-10 04:13:57  \n",
       "7                0.0        False   2013-09-15 19:48:11  \n",
       "8                0.0        False   2012-05-30 04:36:11  \n",
       "9                6.0        False   2017-11-24 12:14:29  "
      ]
     },
     "execution_count": 530,
     "metadata": {},
     "output_type": "execute_result"
    }
   ],
   "source": [
    "emo_only.sample(10, random_state=18300941).iloc[:, :8].reset_index(drop=True)"
   ]
  },
  {
   "cell_type": "markdown",
   "metadata": {},
   "source": [
    "Taken together, these had only a minimal impact on the discrepancy."
   ]
  },
  {
   "cell_type": "code",
   "execution_count": 547,
   "metadata": {},
   "outputs": [],
   "source": [
    "ae_matched_sql = \"\"\"\n",
    "select\n",
    "    month,\n",
    "    count(*) as active_editors\n",
    "from (\n",
    "    select\n",
    "        cast({table_abbrev}.month as date) as month,\n",
    "        {table_abbrev}.user_name,\n",
    "        sum({table_abbrev}.content_edits) as content_edits,\n",
    "        max({table_abbrev}.bot_flag) as bot_flag\n",
    "    from neilpquinn.{table} {table_abbrev}\n",
    "    inner join neilpquinn.{other_table} {other_table_abbrev}\n",
    "    on\n",
    "        emo.month = emn.month and\n",
    "        emo.wiki = emn.wiki and\n",
    "        emo.local_user_id = emn.local_user_id\n",
    "    where \n",
    "        {table_abbrev}.local_user_id != 0\n",
    "    group by {table_abbrev}.month, {table_abbrev}.user_name\n",
    ") global_edits\n",
    "where\n",
    "    content_edits >= 5 and\n",
    "    not bot_flag and \n",
    "    user_name not regexp \"bot\\\\b\"\n",
    "group by month\n",
    "\"\"\"\n",
    "\n",
    "emo_ae_matched_sql = ae_matched_sql.format(\n",
    "    table=\"editor_month_official\",\n",
    "    table_abbrev=\"emo\",\n",
    "    other_table=\"editor_month_new\",\n",
    "    other_table_abbrev=\"emn\"\n",
    ")\n",
    "\n",
    "emn_ae_matched_sql = ae_matched_sql.format(\n",
    "    table=\"editor_month_new\",\n",
    "    table_abbrev=\"emn\",\n",
    "    other_table=\"editor_month_official\",\n",
    "    other_table_abbrev=\"emo\"\n",
    ")\n",
    "\n",
    "emo_ae_matched = hive.run(emo_ae_matched_sql).assign(month=lambda df: pd.to_datetime(df[\"month\"])).set_index(\"month\")\n",
    "emn_ae_matched = hive.run(emn_ae_matched_sql).assign(month=lambda df: pd.to_datetime(df[\"month\"])).set_index(\"month\")"
   ]
  },
  {
   "cell_type": "code",
   "execution_count": 548,
   "metadata": {},
   "outputs": [
    {
     "data": {
      "image/png": "[encoded data removed]",
      "text/plain": [
       "<Figure size 1008x504 with 1 Axes>"
      ]
     },
     "metadata": {},
     "output_type": "display_data"
    }
   ],
   "source": [
    "(emn_ae_matched - emo_ae_matched)[\"2001\":].plot(\n",
    "    title=\"Deviation of 'new' active editors from 'official'\"\n",
    ");"
   ]
  },
  {
   "cell_type": "markdown",
   "metadata": {},
   "source": [
    "# Content edit counts"
   ]
  },
  {
   "cell_type": "markdown",
   "metadata": {},
   "source": [
    "So now let's look at the rows that exist in both datasets. Since this is a much bigger group, we'll only look at the past two year of data."
   ]
  },
  {
   "cell_type": "code",
   "execution_count": 36,
   "metadata": {},
   "outputs": [],
   "source": [
    "matched_rows = hive.run([\n",
    "    \"set hive.resultset.use.unique.column.names=true\",\n",
    "    \"\"\"\n",
    "    select *\n",
    "    from neilpquinn.editor_month_official emo\n",
    "    inner join neilpquinn.editor_month_new emn\n",
    "    on\n",
    "        emo.month = emn.month and\n",
    "        emo.wiki = emn.wiki and\n",
    "        emo.local_user_id = emn.local_user_id\n",
    "    where\n",
    "        emo.month >= \"2017-02-01\" and\n",
    "        emn.month >= \"2017-02-01\"\n",
    "    \"\"\"\n",
    "]).rename(columns=lambda x: x.replace(\".\", \"_\"))"
   ]
  },
  {
   "cell_type": "markdown",
   "metadata": {},
   "source": [
    "12% have different numbers of content edits!"
   ]
  },
  {
   "cell_type": "code",
   "execution_count": 588,
   "metadata": {},
   "outputs": [
    {
     "data": {
      "text/plain": [
       "0.12279135451347824"
      ]
     },
     "execution_count": 588,
     "metadata": {},
     "output_type": "execute_result"
    }
   ],
   "source": [
    "rows = len(matched_rows)\n",
    "len(matched_rows.query(\"emo_content_edits != emn_content_edits\")) / rows"
   ]
  },
  {
   "cell_type": "markdown",
   "metadata": {},
   "source": [
    "Of those rows with differing numbers of content edits, `editor_month_official` shows more 96% of the time and `editor_month_new` more only 4% of the time."
   ]
  },
  {
   "cell_type": "code",
   "execution_count": 590,
   "metadata": {},
   "outputs": [
    {
     "data": {
      "text/plain": [
       "0.9634429889371157"
      ]
     },
     "execution_count": 590,
     "metadata": {},
     "output_type": "execute_result"
    }
   ],
   "source": [
    "differing_content_edit_rows = len(matched_rows.query(\"emo_content_edits != emn_content_edits\"))\n",
    "len(matched_rows.query(\"emo_content_edits > emn_content_edits\")) / differing_content_edit_rows"
   ]
  },
  {
   "cell_type": "markdown",
   "metadata": {},
   "source": [
    "Oof. There seem to be at least four different problems at work:\n",
    "\n",
    "Deleted pages where all the revisions have null `page_namespace_historical`, `page_namespace_is_content` and `page_namespace_is_content_historical`:\n",
    "* nlwiki page 5160672\n",
    "* commonswiki page 71797356\n",
    "* wikidatawiki page 9637937\n",
    "* arwiki page 4970274\n",
    "* commonswiki page 73916373\n",
    "* ruwiki page 7054391\n",
    "\n",
    "Revisions with null `page_namespace_historical` and `page_namespace_is_content_historical`. Most but not all of the revisions to the pages concerned are affected. \n",
    "* https://en.wikipedia.org/w/index.php?diff=67017781 (page 28408157)\n",
    "* https://www.wikidata.org/w/index.php?diff=155712677 (page 21524228)\n",
    "* https://pt.wikipedia.org/w/index.php?diff=1691356 (page 96328)\n",
    "* https://en.wikipedia.org/w/index.php?diff=820879007 (page 56326900)\n",
    "\n",
    "Revisions where the join to the page table seems to have failed entirely, because where almost all revisions have null `page_title`, `page_namespace`, and `page_namespace_is_content` (including historical fields) and `page_creation_timestamp`. Most but not all of the revisions to the pages concerned are affected.\n",
    "* https://en.wikipedia.org/w/index.php?diff=859361756 (page 40012938)\n",
    "* https://pt.wikipedia.org/w/index.php?diff=2692528 (page 3177643)\n",
    "* https://en.wikipedia.org/w/index.php?diff=269025183 (page 29397754)\n",
    "* https://en.wikipedia.org/w/index.php?diff=347411263 (page 30865452)\n",
    "\n",
    "Revisions with null page data (as above) because the referenced pages simply don't exist in the underlying page table. These may be botched deletions.\n",
    "* https://ru.wikipedia.org/w/index.php?diff=78824747\n",
    "* https://da.wikipedia.org/w/index.php?diff=1751290\n",
    "* https://nl.wikipedia.org/w/index.php?diff=1363616\n",
    "* https://en.wikipedia.org/w/index.php?diff=17967486"
   ]
  },
  {
   "cell_type": "code",
   "execution_count": 592,
   "metadata": {},
   "outputs": [
    {
     "data": {
      "text/html": [
       "<div>\n",
       "<style scoped>\n",
       "    .dataframe tbody tr th:only-of-type {\n",
       "        vertical-align: middle;\n",
       "    }\n",
       "\n",
       "    .dataframe tbody tr th {\n",
       "        vertical-align: top;\n",
       "    }\n",
       "\n",
       "    .dataframe thead th {\n",
       "        text-align: right;\n",
       "    }\n",
       "</style>\n",
       "<table border=\"1\" class=\"dataframe\">\n",
       "  <thead>\n",
       "    <tr style=\"text-align: right;\">\n",
       "      <th></th>\n",
       "      <th>emo_month</th>\n",
       "      <th>emo_wiki</th>\n",
       "      <th>emo_local_user_id</th>\n",
       "      <th>emo_user_name</th>\n",
       "      <th>emo_content_edits</th>\n",
       "      <th>emn_content_edits</th>\n",
       "    </tr>\n",
       "  </thead>\n",
       "  <tbody>\n",
       "    <tr>\n",
       "      <th>5767399</th>\n",
       "      <td>2018-10-01</td>\n",
       "      <td>commonswiki</td>\n",
       "      <td>6241690</td>\n",
       "      <td>Lina Franchina</td>\n",
       "      <td>9</td>\n",
       "      <td>8</td>\n",
       "    </tr>\n",
       "    <tr>\n",
       "      <th>1578777</th>\n",
       "      <td>2017-12-01</td>\n",
       "      <td>commonswiki</td>\n",
       "      <td>6947294</td>\n",
       "      <td>Rahul Kumar Chadar</td>\n",
       "      <td>3</td>\n",
       "      <td>2</td>\n",
       "    </tr>\n",
       "    <tr>\n",
       "      <th>184541</th>\n",
       "      <td>2017-08-01</td>\n",
       "      <td>ruwiki</td>\n",
       "      <td>1784385</td>\n",
       "      <td>Mr.TiNart</td>\n",
       "      <td>2</td>\n",
       "      <td>0</td>\n",
       "    </tr>\n",
       "    <tr>\n",
       "      <th>1141513</th>\n",
       "      <td>2018-08-01</td>\n",
       "      <td>commonswiki</td>\n",
       "      <td>2623039</td>\n",
       "      <td>Franziskanermuseum</td>\n",
       "      <td>2</td>\n",
       "      <td>0</td>\n",
       "    </tr>\n",
       "    <tr>\n",
       "      <th>1342731</th>\n",
       "      <td>2017-03-01</td>\n",
       "      <td>enwiki</td>\n",
       "      <td>19048777</td>\n",
       "      <td>Mikejones675</td>\n",
       "      <td>11</td>\n",
       "      <td>10</td>\n",
       "    </tr>\n",
       "    <tr>\n",
       "      <th>352790</th>\n",
       "      <td>2018-03-01</td>\n",
       "      <td>commonswiki</td>\n",
       "      <td>4683224</td>\n",
       "      <td>Mcppankaj</td>\n",
       "      <td>2</td>\n",
       "      <td>1</td>\n",
       "    </tr>\n",
       "    <tr>\n",
       "      <th>4080152</th>\n",
       "      <td>2017-07-01</td>\n",
       "      <td>wikidatawiki</td>\n",
       "      <td>22740</td>\n",
       "      <td>Black Kite</td>\n",
       "      <td>4</td>\n",
       "      <td>3</td>\n",
       "    </tr>\n",
       "    <tr>\n",
       "      <th>326546</th>\n",
       "      <td>2018-02-01</td>\n",
       "      <td>commonswiki</td>\n",
       "      <td>7040082</td>\n",
       "      <td>Penandthinker</td>\n",
       "      <td>1</td>\n",
       "      <td>0</td>\n",
       "    </tr>\n",
       "    <tr>\n",
       "      <th>4216076</th>\n",
       "      <td>2018-01-01</td>\n",
       "      <td>commonswiki</td>\n",
       "      <td>36840</td>\n",
       "      <td>Was a bee</td>\n",
       "      <td>34</td>\n",
       "      <td>33</td>\n",
       "    </tr>\n",
       "    <tr>\n",
       "      <th>4116231</th>\n",
       "      <td>2017-09-01</td>\n",
       "      <td>enwiki</td>\n",
       "      <td>23616447</td>\n",
       "      <td>LoudLizard</td>\n",
       "      <td>27</td>\n",
       "      <td>14</td>\n",
       "    </tr>\n",
       "  </tbody>\n",
       "</table>\n",
       "</div>"
      ],
      "text/plain": [
       "         emo_month      emo_wiki  emo_local_user_id       emo_user_name  \\\n",
       "5767399 2018-10-01   commonswiki            6241690      Lina Franchina   \n",
       "1578777 2017-12-01   commonswiki            6947294  Rahul Kumar Chadar   \n",
       "184541  2017-08-01        ruwiki            1784385           Mr.TiNart   \n",
       "1141513 2018-08-01   commonswiki            2623039  Franziskanermuseum   \n",
       "1342731 2017-03-01        enwiki           19048777        Mikejones675   \n",
       "352790  2018-03-01   commonswiki            4683224           Mcppankaj   \n",
       "4080152 2017-07-01  wikidatawiki              22740          Black Kite   \n",
       "326546  2018-02-01   commonswiki            7040082       Penandthinker   \n",
       "4216076 2018-01-01   commonswiki              36840           Was a bee   \n",
       "4116231 2017-09-01        enwiki           23616447          LoudLizard   \n",
       "\n",
       "         emo_content_edits  emn_content_edits  \n",
       "5767399                  9                  8  \n",
       "1578777                  3                  2  \n",
       "184541                   2                  0  \n",
       "1141513                  2                  0  \n",
       "1342731                 11                 10  \n",
       "352790                   2                  1  \n",
       "4080152                  4                  3  \n",
       "326546                   1                  0  \n",
       "4216076                 34                 33  \n",
       "4116231                 27                 14  "
      ]
     },
     "execution_count": 592,
     "metadata": {},
     "output_type": "execute_result"
    }
   ],
   "source": [
    "matched_rows.query(\"emo_content_edits > emn_content_edits\").sample(10)[\n",
    "    [\"emo_month\", \"emo_wiki\", \"emo_local_user_id\", \"emo_user_name\", \"emo_content_edits\", \"emn_content_edits\"]\n",
    "]"
   ]
  },
  {
   "cell_type": "markdown",
   "metadata": {},
   "source": [
    "In the less common case where `editor_month_new` shows more edits, the reasons seem to be:\n",
    "* content namespaces not included in the list for `editor_month_official`: the Page namespace (104) and Index namespace (106) on enwikisource, the Author namespace (102) and Page namespace (104) on dewikisource, the Page namespace on guwikisource (122), the List namespace of ltwiki (104)\n",
    "* edits to pages later moved out of content namespaces (e.g. from the main namespace to the user namespace)\n",
    "* a history merge that moved edits in the Draft namespace to the main namespace (e.g. with the page https://en.wikipedia.org/w/index.php?title=Wyatt_Omsberg&action=history)"
   ]
  },
  {
   "cell_type": "code",
   "execution_count": 594,
   "metadata": {},
   "outputs": [
    {
     "data": {
      "text/html": [
       "<div>\n",
       "<style scoped>\n",
       "    .dataframe tbody tr th:only-of-type {\n",
       "        vertical-align: middle;\n",
       "    }\n",
       "\n",
       "    .dataframe tbody tr th {\n",
       "        vertical-align: top;\n",
       "    }\n",
       "\n",
       "    .dataframe thead th {\n",
       "        text-align: right;\n",
       "    }\n",
       "</style>\n",
       "<table border=\"1\" class=\"dataframe\">\n",
       "  <thead>\n",
       "    <tr style=\"text-align: right;\">\n",
       "      <th></th>\n",
       "      <th>emo_month</th>\n",
       "      <th>emo_wiki</th>\n",
       "      <th>emo_local_user_id</th>\n",
       "      <th>emo_user_name</th>\n",
       "      <th>emo_content_edits</th>\n",
       "      <th>emn_content_edits</th>\n",
       "    </tr>\n",
       "  </thead>\n",
       "  <tbody>\n",
       "    <tr>\n",
       "      <th>5582288</th>\n",
       "      <td>2018-03-01</td>\n",
       "      <td>enwiki</td>\n",
       "      <td>735031</td>\n",
       "      <td>Ged UK</td>\n",
       "      <td>15</td>\n",
       "      <td>17</td>\n",
       "    </tr>\n",
       "    <tr>\n",
       "      <th>6894568</th>\n",
       "      <td>2018-03-01</td>\n",
       "      <td>enwiki</td>\n",
       "      <td>32899613</td>\n",
       "      <td>Porcupineforest99</td>\n",
       "      <td>4</td>\n",
       "      <td>6</td>\n",
       "    </tr>\n",
       "    <tr>\n",
       "      <th>2712959</th>\n",
       "      <td>2017-05-01</td>\n",
       "      <td>enwikisource</td>\n",
       "      <td>171034</td>\n",
       "      <td>Jane023</td>\n",
       "      <td>25</td>\n",
       "      <td>48</td>\n",
       "    </tr>\n",
       "    <tr>\n",
       "      <th>7267799</th>\n",
       "      <td>2017-04-01</td>\n",
       "      <td>sawikisource</td>\n",
       "      <td>0</td>\n",
       "      <td></td>\n",
       "      <td>3</td>\n",
       "      <td>4</td>\n",
       "    </tr>\n",
       "    <tr>\n",
       "      <th>3042151</th>\n",
       "      <td>2018-05-01</td>\n",
       "      <td>ltwiki</td>\n",
       "      <td>78682</td>\n",
       "      <td>Deimantas153</td>\n",
       "      <td>6</td>\n",
       "      <td>8</td>\n",
       "    </tr>\n",
       "    <tr>\n",
       "      <th>3812186</th>\n",
       "      <td>2018-10-01</td>\n",
       "      <td>dewikisource</td>\n",
       "      <td>613</td>\n",
       "      <td>Pfaerrich</td>\n",
       "      <td>623</td>\n",
       "      <td>756</td>\n",
       "    </tr>\n",
       "    <tr>\n",
       "      <th>7720004</th>\n",
       "      <td>2018-09-01</td>\n",
       "      <td>guwikisource</td>\n",
       "      <td>156</td>\n",
       "      <td>Amvaishnav</td>\n",
       "      <td>0</td>\n",
       "      <td>122</td>\n",
       "    </tr>\n",
       "    <tr>\n",
       "      <th>7643298</th>\n",
       "      <td>2018-06-01</td>\n",
       "      <td>knwikisource</td>\n",
       "      <td>4671</td>\n",
       "      <td>Harshithp1810288</td>\n",
       "      <td>0</td>\n",
       "      <td>4</td>\n",
       "    </tr>\n",
       "    <tr>\n",
       "      <th>5513594</th>\n",
       "      <td>2017-12-01</td>\n",
       "      <td>hywikisource</td>\n",
       "      <td>6106</td>\n",
       "      <td>Hakob BARSEGHYAN</td>\n",
       "      <td>0</td>\n",
       "      <td>6</td>\n",
       "    </tr>\n",
       "    <tr>\n",
       "      <th>1762813</th>\n",
       "      <td>2018-06-01</td>\n",
       "      <td>plwikisource</td>\n",
       "      <td>2417</td>\n",
       "      <td>Ashaio</td>\n",
       "      <td>0</td>\n",
       "      <td>5</td>\n",
       "    </tr>\n",
       "  </tbody>\n",
       "</table>\n",
       "</div>"
      ],
      "text/plain": [
       "         emo_month      emo_wiki  emo_local_user_id      emo_user_name  \\\n",
       "5582288 2018-03-01        enwiki             735031             Ged UK   \n",
       "6894568 2018-03-01        enwiki           32899613  Porcupineforest99   \n",
       "2712959 2017-05-01  enwikisource             171034            Jane023   \n",
       "7267799 2017-04-01  sawikisource                  0                      \n",
       "3042151 2018-05-01        ltwiki              78682       Deimantas153   \n",
       "3812186 2018-10-01  dewikisource                613          Pfaerrich   \n",
       "7720004 2018-09-01  guwikisource                156         Amvaishnav   \n",
       "7643298 2018-06-01  knwikisource               4671   Harshithp1810288   \n",
       "5513594 2017-12-01  hywikisource               6106   Hakob BARSEGHYAN   \n",
       "1762813 2018-06-01  plwikisource               2417             Ashaio   \n",
       "\n",
       "         emo_content_edits  emn_content_edits  \n",
       "5582288                 15                 17  \n",
       "6894568                  4                  6  \n",
       "2712959                 25                 48  \n",
       "7267799                  3                  4  \n",
       "3042151                  6                  8  \n",
       "3812186                623                756  \n",
       "7720004                  0                122  \n",
       "7643298                  0                  4  \n",
       "5513594                  0                  6  \n",
       "1762813                  0                  5  "
      ]
     },
     "execution_count": 594,
     "metadata": {},
     "output_type": "execute_result"
    }
   ],
   "source": [
    "matched_rows.query(\"emn_content_edits > emo_content_edits\").sample(10)[\n",
    "    [\"emo_month\", \"emo_wiki\", \"emo_local_user_id\", \"emo_user_name\", \"emo_content_edits\", \"emn_content_edits\"]\n",
    "]"
   ]
  },
  {
   "cell_type": "markdown",
   "metadata": {},
   "source": [
    "This, finally, makes an big impact on the discrepancy: at its largest, it goes from about -19 000 to about -1 200, and in the past year, it goes from about -4 000 to about +50."
   ]
  },
  {
   "cell_type": "code",
   "execution_count": 595,
   "metadata": {},
   "outputs": [],
   "source": [
    "ae_all_ns_sql = \"\"\"\n",
    "select\n",
    "    month,\n",
    "    count(*) as active_editors\n",
    "from (\n",
    "    select\n",
    "        cast({table_abbrev}.month as date) as month,\n",
    "        {table_abbrev}.user_name,\n",
    "        sum({table_abbrev}.edits) as edits,\n",
    "        max({table_abbrev}.bot_flag) as bot_flag\n",
    "    from neilpquinn.{table} {table_abbrev}\n",
    "    inner join neilpquinn.{other_table} {other_table_abbrev}\n",
    "    on\n",
    "        emo.month = emn.month and\n",
    "        emo.wiki = emn.wiki and\n",
    "        emo.local_user_id = emn.local_user_id\n",
    "    where \n",
    "        {table_abbrev}.local_user_id != 0\n",
    "    group by {table_abbrev}.month, {table_abbrev}.user_name\n",
    ") global_edits\n",
    "where\n",
    "    edits >= 5 and\n",
    "    not bot_flag and \n",
    "    user_name not regexp \"bot\\\\b\"\n",
    "group by month\n",
    "\"\"\"\n",
    "\n",
    "emo_ae_all_ns_sql = ae_all_ns_sql.format(\n",
    "    table=\"editor_month_official\",\n",
    "    table_abbrev=\"emo\",\n",
    "    other_table=\"editor_month_new\",\n",
    "    other_table_abbrev=\"emn\"\n",
    ")\n",
    "\n",
    "emn_ae_all_ns_sql = ae_all_ns_sql.format(\n",
    "    table=\"editor_month_new\",\n",
    "    table_abbrev=\"emn\",\n",
    "    other_table=\"editor_month_official\",\n",
    "    other_table_abbrev=\"emo\"\n",
    ")\n",
    "\n",
    "emo_ae_all_ns = hive.run(emo_ae_all_ns_sql).assign(month=lambda df: pd.to_datetime(df[\"month\"])).set_index(\"month\")\n",
    "emn_ae_all_ns = hive.run(emn_ae_all_ns_sql).assign(month=lambda df: pd.to_datetime(df[\"month\"])).set_index(\"month\")"
   ]
  },
  {
   "cell_type": "code",
   "execution_count": 596,
   "metadata": {},
   "outputs": [
    {
     "data": {
      "image/png": "[encoded data removed]",
      "text/plain": [
       "<Figure size 1008x504 with 1 Axes>"
      ]
     },
     "metadata": {},
     "output_type": "display_data"
    }
   ],
   "source": [
    "(emn_ae_all_ns - emo_ae_all_ns)[\"2001\":].plot(\n",
    "    title=\"Deviation of 'new' active editors from 'official'\"\n",
    ");"
   ]
  },
  {
   "cell_type": "markdown",
   "metadata": {},
   "source": [
    "# Overall edit counts"
   ]
  },
  {
   "cell_type": "markdown",
   "metadata": {},
   "source": [
    "Only about 0.1% of rows differ in their overall edit count."
   ]
  },
  {
   "cell_type": "code",
   "execution_count": 602,
   "metadata": {},
   "outputs": [
    {
     "data": {
      "text/plain": [
       "0.0011703148602770631"
      ]
     },
     "execution_count": 602,
     "metadata": {},
     "output_type": "execute_result"
    }
   ],
   "source": [
    "differing_edits = matched_rows.query(\"emo_edits != emn_edits\")\n",
    "len(differing_edits) / rows"
   ]
  },
  {
   "cell_type": "markdown",
   "metadata": {},
   "source": [
    "About 63% of these rows show more edits in `editor_month_new`."
   ]
  },
  {
   "cell_type": "code",
   "execution_count": 613,
   "metadata": {},
   "outputs": [
    {
     "data": {
      "text/plain": [
       "0.6343513589240684"
      ]
     },
     "execution_count": 613,
     "metadata": {},
     "output_type": "execute_result"
    }
   ],
   "source": [
    "len(differing_edits.query(\"emn_edits > emo_edits\")) / len(differing_edits)"
   ]
  },
  {
   "cell_type": "markdown",
   "metadata": {},
   "source": [
    "The extra edits in `editor_month_new` all seem to be due to imported revisions: for example, where a user was credited with imported revisions *in addition* to making regular revisions during that month, or had some revisions imported before the row in `editor_month_official` was generated, and others imported between that time and now."
   ]
  },
  {
   "cell_type": "code",
   "execution_count": 610,
   "metadata": {},
   "outputs": [
    {
     "data": {
      "text/plain": [
       "emo_wiki\n",
       "dewiki           3595\n",
       "commonswiki       591\n",
       "wikidatawiki      392\n",
       "simplewiki        306\n",
       "enwiki            109\n",
       "mlwiki             88\n",
       "euwiki             49\n",
       "metawiki           45\n",
       "ruwikinews         44\n",
       "bhwiki             42\n",
       "dewikivoyage       40\n",
       "enwikiversity      36\n",
       "tewiki             35\n",
       "guwiki             34\n",
       "knwiki             32\n",
       "zhwikiversity      32\n",
       "enwikibooks        31\n",
       "zhwikivoyage       30\n",
       "hiwiki             30\n",
       "maiwiki            30\n",
       "Name: emo_wiki, dtype: int64"
      ]
     },
     "execution_count": 610,
     "metadata": {},
     "output_type": "execute_result"
    }
   ],
   "source": [
    "differing_edits.query(\n",
    "    \"emn_edits > emo_edits\"\n",
    ").groupby(\"emo_wiki\")[\"emo_wiki\"].count().sort_values(ascending=False).head(20)"
   ]
  },
  {
   "cell_type": "code",
   "execution_count": 618,
   "metadata": {},
   "outputs": [
    {
     "data": {
      "text/html": [
       "<div>\n",
       "<style scoped>\n",
       "    .dataframe tbody tr th:only-of-type {\n",
       "        vertical-align: middle;\n",
       "    }\n",
       "\n",
       "    .dataframe tbody tr th {\n",
       "        vertical-align: top;\n",
       "    }\n",
       "\n",
       "    .dataframe thead th {\n",
       "        text-align: right;\n",
       "    }\n",
       "</style>\n",
       "<table border=\"1\" class=\"dataframe\">\n",
       "  <thead>\n",
       "    <tr style=\"text-align: right;\">\n",
       "      <th></th>\n",
       "      <th>emo_month</th>\n",
       "      <th>emo_wiki</th>\n",
       "      <th>emo_local_user_id</th>\n",
       "      <th>emo_user_name</th>\n",
       "      <th>emo_edits</th>\n",
       "      <th>emn_edits</th>\n",
       "    </tr>\n",
       "  </thead>\n",
       "  <tbody>\n",
       "    <tr>\n",
       "      <th>5991535</th>\n",
       "      <td>2017-06-01</td>\n",
       "      <td>commonswiki</td>\n",
       "      <td>2147799</td>\n",
       "      <td>Jc86035</td>\n",
       "      <td>204</td>\n",
       "      <td>205</td>\n",
       "    </tr>\n",
       "    <tr>\n",
       "      <th>8765335</th>\n",
       "      <td>2017-12-01</td>\n",
       "      <td>commonswiki</td>\n",
       "      <td>303675</td>\n",
       "      <td>ScAvenger</td>\n",
       "      <td>62</td>\n",
       "      <td>64</td>\n",
       "    </tr>\n",
       "    <tr>\n",
       "      <th>7131284</th>\n",
       "      <td>2018-12-01</td>\n",
       "      <td>commonswiki</td>\n",
       "      <td>194176</td>\n",
       "      <td>Jack1956</td>\n",
       "      <td>4</td>\n",
       "      <td>9</td>\n",
       "    </tr>\n",
       "    <tr>\n",
       "      <th>7841818</th>\n",
       "      <td>2017-02-01</td>\n",
       "      <td>commonswiki</td>\n",
       "      <td>0</td>\n",
       "      <td></td>\n",
       "      <td>25194</td>\n",
       "      <td>25265</td>\n",
       "    </tr>\n",
       "    <tr>\n",
       "      <th>4517943</th>\n",
       "      <td>2018-12-01</td>\n",
       "      <td>commonswiki</td>\n",
       "      <td>2567522</td>\n",
       "      <td>淺藍雪</td>\n",
       "      <td>26</td>\n",
       "      <td>27</td>\n",
       "    </tr>\n",
       "    <tr>\n",
       "      <th>3703070</th>\n",
       "      <td>2018-06-01</td>\n",
       "      <td>commonswiki</td>\n",
       "      <td>238375</td>\n",
       "      <td>Whpq</td>\n",
       "      <td>50</td>\n",
       "      <td>53</td>\n",
       "    </tr>\n",
       "    <tr>\n",
       "      <th>7021763</th>\n",
       "      <td>2018-08-01</td>\n",
       "      <td>commonswiki</td>\n",
       "      <td>6701990</td>\n",
       "      <td>AmericanAir88</td>\n",
       "      <td>34</td>\n",
       "      <td>36</td>\n",
       "    </tr>\n",
       "    <tr>\n",
       "      <th>7484792</th>\n",
       "      <td>2018-01-01</td>\n",
       "      <td>commonswiki</td>\n",
       "      <td>1047183</td>\n",
       "      <td>FrescoBot</td>\n",
       "      <td>48140</td>\n",
       "      <td>48141</td>\n",
       "    </tr>\n",
       "    <tr>\n",
       "      <th>3296041</th>\n",
       "      <td>2017-03-01</td>\n",
       "      <td>commonswiki</td>\n",
       "      <td>4832121</td>\n",
       "      <td>В. Николов</td>\n",
       "      <td>8</td>\n",
       "      <td>9</td>\n",
       "    </tr>\n",
       "    <tr>\n",
       "      <th>8685194</th>\n",
       "      <td>2017-09-01</td>\n",
       "      <td>commonswiki</td>\n",
       "      <td>6231175</td>\n",
       "      <td>JJMC89 bot</td>\n",
       "      <td>11448</td>\n",
       "      <td>11451</td>\n",
       "    </tr>\n",
       "  </tbody>\n",
       "</table>\n",
       "</div>"
      ],
      "text/plain": [
       "         emo_month     emo_wiki  emo_local_user_id  emo_user_name  emo_edits  \\\n",
       "5991535 2017-06-01  commonswiki            2147799        Jc86035        204   \n",
       "8765335 2017-12-01  commonswiki             303675      ScAvenger         62   \n",
       "7131284 2018-12-01  commonswiki             194176       Jack1956          4   \n",
       "7841818 2017-02-01  commonswiki                  0                     25194   \n",
       "4517943 2018-12-01  commonswiki            2567522            淺藍雪         26   \n",
       "3703070 2018-06-01  commonswiki             238375           Whpq         50   \n",
       "7021763 2018-08-01  commonswiki            6701990  AmericanAir88         34   \n",
       "7484792 2018-01-01  commonswiki            1047183      FrescoBot      48140   \n",
       "3296041 2017-03-01  commonswiki            4832121     В. Николов          8   \n",
       "8685194 2017-09-01  commonswiki            6231175     JJMC89 bot      11448   \n",
       "\n",
       "         emn_edits  \n",
       "5991535        205  \n",
       "8765335         64  \n",
       "7131284          9  \n",
       "7841818      25265  \n",
       "4517943         27  \n",
       "3703070         53  \n",
       "7021763         36  \n",
       "7484792      48141  \n",
       "3296041          9  \n",
       "8685194      11451  "
      ]
     },
     "execution_count": 618,
     "metadata": {},
     "output_type": "execute_result"
    }
   ],
   "source": [
    "differing_edits.query(\n",
    "    \"(emn_edits > emo_edits) & (emo_wiki == 'commonswiki')\"\n",
    ").sample(10)[\n",
    "    [\"emo_month\", \"emo_wiki\", \"emo_local_user_id\", \"emo_user_name\", \"emo_edits\", \"emn_edits\"]\n",
    "]"
   ]
  },
  {
   "cell_type": "markdown",
   "metadata": {},
   "source": [
    "The extra edits in `editor_month_official` all seem to be due to revision deletion."
   ]
  },
  {
   "cell_type": "code",
   "execution_count": 619,
   "metadata": {},
   "outputs": [
    {
     "data": {
      "text/plain": [
       "emo_wiki\n",
       "enwiki          1386\n",
       "jawiki           193\n",
       "commonswiki      156\n",
       "enwikivoyage     141\n",
       "enwiktionary     123\n",
       "ruwiki           106\n",
       "fawiki            95\n",
       "zhwiki            94\n",
       "plwiki            83\n",
       "svwiki            76\n",
       "idwiki            67\n",
       "ukwiki            64\n",
       "wikidatawiki      59\n",
       "eswiki            57\n",
       "itwiki            56\n",
       "ptwiki            52\n",
       "arwiki            52\n",
       "metawiki          50\n",
       "frwiki            47\n",
       "simplewiki        44\n",
       "Name: emo_wiki, dtype: int64"
      ]
     },
     "execution_count": 619,
     "metadata": {},
     "output_type": "execute_result"
    }
   ],
   "source": [
    "differing_edits.query(\n",
    "    \"emo_edits > emn_edits\"\n",
    ").groupby(\"emo_wiki\")[\"emo_wiki\"].count().sort_values(ascending=False).head(20)"
   ]
  },
  {
   "cell_type": "code",
   "execution_count": 621,
   "metadata": {},
   "outputs": [
    {
     "data": {
      "text/html": [
       "<div>\n",
       "<style scoped>\n",
       "    .dataframe tbody tr th:only-of-type {\n",
       "        vertical-align: middle;\n",
       "    }\n",
       "\n",
       "    .dataframe tbody tr th {\n",
       "        vertical-align: top;\n",
       "    }\n",
       "\n",
       "    .dataframe thead th {\n",
       "        text-align: right;\n",
       "    }\n",
       "</style>\n",
       "<table border=\"1\" class=\"dataframe\">\n",
       "  <thead>\n",
       "    <tr style=\"text-align: right;\">\n",
       "      <th></th>\n",
       "      <th>emo_month</th>\n",
       "      <th>emo_wiki</th>\n",
       "      <th>emo_local_user_id</th>\n",
       "      <th>emo_user_name</th>\n",
       "      <th>emo_edits</th>\n",
       "      <th>emn_edits</th>\n",
       "    </tr>\n",
       "  </thead>\n",
       "  <tbody>\n",
       "    <tr>\n",
       "      <th>2807810</th>\n",
       "      <td>2017-09-01</td>\n",
       "      <td>enwiki</td>\n",
       "      <td>5724179</td>\n",
       "      <td>Legacypac</td>\n",
       "      <td>11003</td>\n",
       "      <td>11002</td>\n",
       "    </tr>\n",
       "    <tr>\n",
       "      <th>6245378</th>\n",
       "      <td>2018-03-01</td>\n",
       "      <td>enwiktionary</td>\n",
       "      <td>3363551</td>\n",
       "      <td>उक़ाब</td>\n",
       "      <td>2</td>\n",
       "      <td>1</td>\n",
       "    </tr>\n",
       "    <tr>\n",
       "      <th>4223344</th>\n",
       "      <td>2018-01-01</td>\n",
       "      <td>enwiki</td>\n",
       "      <td>19835299</td>\n",
       "      <td>Flickerd</td>\n",
       "      <td>3211</td>\n",
       "      <td>3210</td>\n",
       "    </tr>\n",
       "    <tr>\n",
       "      <th>5894693</th>\n",
       "      <td>2017-02-01</td>\n",
       "      <td>eswiki</td>\n",
       "      <td>4506595</td>\n",
       "      <td>Ingrid Gomez perra</td>\n",
       "      <td>11</td>\n",
       "      <td>4</td>\n",
       "    </tr>\n",
       "    <tr>\n",
       "      <th>6003174</th>\n",
       "      <td>2017-06-01</td>\n",
       "      <td>enwiki</td>\n",
       "      <td>31329968</td>\n",
       "      <td>Christine Kremer</td>\n",
       "      <td>3</td>\n",
       "      <td>2</td>\n",
       "    </tr>\n",
       "    <tr>\n",
       "      <th>2594051</th>\n",
       "      <td>2019-01-01</td>\n",
       "      <td>enwiki</td>\n",
       "      <td>31048090</td>\n",
       "      <td>Aryan351</td>\n",
       "      <td>12</td>\n",
       "      <td>11</td>\n",
       "    </tr>\n",
       "    <tr>\n",
       "      <th>8787577</th>\n",
       "      <td>2017-12-01</td>\n",
       "      <td>simplewiki</td>\n",
       "      <td>669017</td>\n",
       "      <td>Subhash kumarmb</td>\n",
       "      <td>2</td>\n",
       "      <td>1</td>\n",
       "    </tr>\n",
       "    <tr>\n",
       "      <th>6644142</th>\n",
       "      <td>2017-06-01</td>\n",
       "      <td>bgwiki</td>\n",
       "      <td>215747</td>\n",
       "      <td>Димчо Дебелянов</td>\n",
       "      <td>41</td>\n",
       "      <td>29</td>\n",
       "    </tr>\n",
       "    <tr>\n",
       "      <th>7554694</th>\n",
       "      <td>2018-03-01</td>\n",
       "      <td>enwiktionary</td>\n",
       "      <td>3340005</td>\n",
       "      <td>WAND124432</td>\n",
       "      <td>8</td>\n",
       "      <td>5</td>\n",
       "    </tr>\n",
       "    <tr>\n",
       "      <th>3032527</th>\n",
       "      <td>2018-05-01</td>\n",
       "      <td>enwiki</td>\n",
       "      <td>33694841</td>\n",
       "      <td>VinnyGormund</td>\n",
       "      <td>7</td>\n",
       "      <td>6</td>\n",
       "    </tr>\n",
       "  </tbody>\n",
       "</table>\n",
       "</div>"
      ],
      "text/plain": [
       "         emo_month      emo_wiki  emo_local_user_id       emo_user_name  \\\n",
       "2807810 2017-09-01        enwiki            5724179           Legacypac   \n",
       "6245378 2018-03-01  enwiktionary            3363551               उक़ाब   \n",
       "4223344 2018-01-01        enwiki           19835299            Flickerd   \n",
       "5894693 2017-02-01        eswiki            4506595  Ingrid Gomez perra   \n",
       "6003174 2017-06-01        enwiki           31329968    Christine Kremer   \n",
       "2594051 2019-01-01        enwiki           31048090            Aryan351   \n",
       "8787577 2017-12-01    simplewiki             669017     Subhash kumarmb   \n",
       "6644142 2017-06-01        bgwiki             215747     Димчо Дебелянов   \n",
       "7554694 2018-03-01  enwiktionary            3340005          WAND124432   \n",
       "3032527 2018-05-01        enwiki           33694841        VinnyGormund   \n",
       "\n",
       "         emo_edits  emn_edits  \n",
       "2807810      11003      11002  \n",
       "6245378          2          1  \n",
       "4223344       3211       3210  \n",
       "5894693         11          4  \n",
       "6003174          3          2  \n",
       "2594051         12         11  \n",
       "8787577          2          1  \n",
       "6644142         41         29  \n",
       "7554694          8          5  \n",
       "3032527          7          6  "
      ]
     },
     "execution_count": 621,
     "metadata": {},
     "output_type": "execute_result"
    }
   ],
   "source": [
    "differing_edits.query(\n",
    "    \"(emo_edits > emn_edits) & (emo_local_user_id != 0)\"\n",
    ").sample(10)[\n",
    "    [\"emo_month\", \"emo_wiki\", \"emo_local_user_id\", \"emo_user_name\", \"emo_edits\", \"emn_edits\"]\n",
    "]"
   ]
  },
  {
   "cell_type": "markdown",
   "metadata": {},
   "source": [
    "This doesn't make a significant impact on the discrepancy; overall, while revision importing and deletion add an unfortunate instability to our metrics, the impact is not big enough for serious concern."
   ]
  },
  {
   "cell_type": "code",
   "execution_count": null,
   "metadata": {},
   "outputs": [],
   "source": [
    "ae_equal_edits_sql = \"\"\"\n",
    "select\n",
    "    month,\n",
    "    count(*) as active_editors\n",
    "from (\n",
    "    select\n",
    "        cast({table_abbrev}.month as date) as month,\n",
    "        {table_abbrev}.user_name,\n",
    "        greatest(sum({table_abbrev}.edits), sum({other_table_abbrev}.edits)) as edits,\n",
    "        max({table_abbrev}.bot_flag) as bot_flag\n",
    "    from neilpquinn.{table} {table_abbrev}\n",
    "    inner join neilpquinn.{other_table} {other_table_abbrev}\n",
    "    on\n",
    "        emo.month = emn.month and\n",
    "        emo.wiki = emn.wiki and\n",
    "        emo.local_user_id = emn.local_user_id\n",
    "    where \n",
    "        {table_abbrev}.local_user_id != 0\n",
    "    group by {table_abbrev}.month, {table_abbrev}.user_name\n",
    ") global_edits\n",
    "where\n",
    "    edits >= 5 and\n",
    "    not bot_flag and \n",
    "    user_name not regexp \"bot\\\\b\"\n",
    "group by month\n",
    "\"\"\"\n",
    "\n",
    "emo_ae_equal_edits_sql = ae_equal_edits_sql.format(\n",
    "    table=\"editor_month_official\",\n",
    "    table_abbrev=\"emo\",\n",
    "    other_table=\"editor_month_new\",\n",
    "    other_table_abbrev=\"emn\"\n",
    ")\n",
    "\n",
    "emn_ae_equal_edits_sql = ae_equal_edits_sql.format(\n",
    "    table=\"editor_month_new\",\n",
    "    table_abbrev=\"emn\",\n",
    "    other_table=\"editor_month_official\",\n",
    "    other_table_abbrev=\"emo\"\n",
    ")\n",
    "\n",
    "emo_ae_equal_edits = hive.run(emo_ae_equal_edits_sql).assign(month=lambda df: pd.to_datetime(df[\"month\"])).set_index(\"month\")\n",
    "emn_ae_equal_edits = hive.run(emn_ae_equal_edits_sql).assign(month=lambda df: pd.to_datetime(df[\"month\"])).set_index(\"month\")"
   ]
  },
  {
   "cell_type": "code",
   "execution_count": 623,
   "metadata": {},
   "outputs": [
    {
     "data": {
      "image/png": "[encoded data removed]",
      "text/plain": [
       "<Figure size 1008x504 with 1 Axes>"
      ]
     },
     "metadata": {},
     "output_type": "display_data"
    }
   ],
   "source": [
    "(emn_ae_equal_edits - emo_ae_equal_edits)[\"2001\":].plot(\n",
    "    title=\"Deviation of 'new' active editors from 'official'\"\n",
    ");"
   ]
  },
  {
   "cell_type": "markdown",
   "metadata": {},
   "source": [
    "# User names"
   ]
  },
  {
   "cell_type": "markdown",
   "metadata": {},
   "source": [
    "Let's look at differing user names, filtering out the rows representing anonymous editors because `editor_month_official` gives the user name as an empty string, where `editor_month_new` gives it as null."
   ]
  },
  {
   "cell_type": "code",
   "execution_count": 642,
   "metadata": {},
   "outputs": [
    {
     "data": {
      "text/plain": [
       "'0.7%'"
      ]
     },
     "execution_count": 642,
     "metadata": {},
     "output_type": "execute_result"
    }
   ],
   "source": [
    "differing_names = matched_rows.query(\"emn_user_name != emo_user_name & emo_local_user_id !=0\")\n",
    "\n",
    "pct_str(len(differing_names) / len(matched_rows))"
   ]
  },
  {
   "cell_type": "markdown",
   "metadata": {},
   "source": [
    "These are all cases where the user was renamed after the `editor_month_official` row was generated."
   ]
  },
  {
   "cell_type": "code",
   "execution_count": 643,
   "metadata": {},
   "outputs": [
    {
     "data": {
      "text/html": [
       "<div>\n",
       "<style scoped>\n",
       "    .dataframe tbody tr th:only-of-type {\n",
       "        vertical-align: middle;\n",
       "    }\n",
       "\n",
       "    .dataframe tbody tr th {\n",
       "        vertical-align: top;\n",
       "    }\n",
       "\n",
       "    .dataframe thead th {\n",
       "        text-align: right;\n",
       "    }\n",
       "</style>\n",
       "<table border=\"1\" class=\"dataframe\">\n",
       "  <thead>\n",
       "    <tr style=\"text-align: right;\">\n",
       "      <th></th>\n",
       "      <th>emo_wiki</th>\n",
       "      <th>emo_month</th>\n",
       "      <th>emo_user_name</th>\n",
       "      <th>emn_user_name</th>\n",
       "    </tr>\n",
       "  </thead>\n",
       "  <tbody>\n",
       "    <tr>\n",
       "      <th>1082445</th>\n",
       "      <td>kowiki</td>\n",
       "      <td>2018-05-01</td>\n",
       "      <td>자성</td>\n",
       "      <td>GustavHerbert</td>\n",
       "    </tr>\n",
       "    <tr>\n",
       "      <th>3350162</th>\n",
       "      <td>zhwiki</td>\n",
       "      <td>2017-04-01</td>\n",
       "      <td>萌得不能再萌</td>\n",
       "      <td>CopperSulfate</td>\n",
       "    </tr>\n",
       "    <tr>\n",
       "      <th>2053455</th>\n",
       "      <td>enwiki</td>\n",
       "      <td>2017-05-01</td>\n",
       "      <td>Elshadk</td>\n",
       "      <td>ElshadK</td>\n",
       "    </tr>\n",
       "    <tr>\n",
       "      <th>1383106</th>\n",
       "      <td>itwiki</td>\n",
       "      <td>2017-04-01</td>\n",
       "      <td>Ikcir</td>\n",
       "      <td>Blueberry72</td>\n",
       "    </tr>\n",
       "    <tr>\n",
       "      <th>2775609</th>\n",
       "      <td>zhwiki</td>\n",
       "      <td>2017-07-01</td>\n",
       "      <td>胡蘿蔔</td>\n",
       "      <td>胡葡萄</td>\n",
       "    </tr>\n",
       "    <tr>\n",
       "      <th>3345446</th>\n",
       "      <td>pawiktionary</td>\n",
       "      <td>2017-04-01</td>\n",
       "      <td>Stalinjeet</td>\n",
       "      <td>Stalinjeet Brar</td>\n",
       "    </tr>\n",
       "    <tr>\n",
       "      <th>6608054</th>\n",
       "      <td>itwiki</td>\n",
       "      <td>2017-04-01</td>\n",
       "      <td>Lioce94</td>\n",
       "      <td>FranZ94</td>\n",
       "    </tr>\n",
       "    <tr>\n",
       "      <th>7379680</th>\n",
       "      <td>dawiki</td>\n",
       "      <td>2017-09-01</td>\n",
       "      <td>ChristianGiersing</td>\n",
       "      <td>Christian Giersing</td>\n",
       "    </tr>\n",
       "    <tr>\n",
       "      <th>7082519</th>\n",
       "      <td>enwiki</td>\n",
       "      <td>2018-10-01</td>\n",
       "      <td>Wq639</td>\n",
       "      <td>WQ-63</td>\n",
       "    </tr>\n",
       "    <tr>\n",
       "      <th>7637346</th>\n",
       "      <td>enwikiquote</td>\n",
       "      <td>2018-06-01</td>\n",
       "      <td>TmY e12</td>\n",
       "      <td>ToprakM</td>\n",
       "    </tr>\n",
       "  </tbody>\n",
       "</table>\n",
       "</div>"
      ],
      "text/plain": [
       "             emo_wiki  emo_month      emo_user_name       emn_user_name\n",
       "1082445        kowiki 2018-05-01                 자성       GustavHerbert\n",
       "3350162        zhwiki 2017-04-01             萌得不能再萌       CopperSulfate\n",
       "2053455        enwiki 2017-05-01            Elshadk             ElshadK\n",
       "1383106        itwiki 2017-04-01              Ikcir         Blueberry72\n",
       "2775609        zhwiki 2017-07-01                胡蘿蔔                 胡葡萄\n",
       "3345446  pawiktionary 2017-04-01         Stalinjeet     Stalinjeet Brar\n",
       "6608054        itwiki 2017-04-01            Lioce94             FranZ94\n",
       "7379680        dawiki 2017-09-01  ChristianGiersing  Christian Giersing\n",
       "7082519        enwiki 2018-10-01              Wq639               WQ-63\n",
       "7637346   enwikiquote 2018-06-01            TmY e12             ToprakM"
      ]
     },
     "execution_count": 643,
     "metadata": {},
     "output_type": "execute_result"
    }
   ],
   "source": [
    "differing_names.sample(10)[\n",
    "    [\"emo_wiki\", \"emo_month\", \"emo_user_name\", \"emn_user_name\"]\n",
    "]"
   ]
  },
  {
   "cell_type": "markdown",
   "metadata": {},
   "source": [
    "Rerunning the active editor numbers, grouping in both cases by the user name in `editor_month_new`, it has a significant effect on the discrepancy (although not as significant as the content edits issues)."
   ]
  },
  {
   "cell_type": "code",
   "execution_count": 645,
   "metadata": {},
   "outputs": [],
   "source": [
    "ae_new_names_sql = \"\"\"\n",
    "select\n",
    "    month,\n",
    "    count(*) as active_editors\n",
    "from (\n",
    "    select\n",
    "        cast({table_abbrev}.month as date) as month,\n",
    "        emn.user_name,\n",
    "        greatest(sum({table_abbrev}.edits), sum({other_table_abbrev}.edits)) as edits,\n",
    "        max({table_abbrev}.bot_flag) as bot_flag\n",
    "    from neilpquinn.{table} {table_abbrev}\n",
    "    inner join neilpquinn.{other_table} {other_table_abbrev}\n",
    "    on\n",
    "        emo.month = emn.month and\n",
    "        emo.wiki = emn.wiki and\n",
    "        emo.local_user_id = emn.local_user_id\n",
    "    where \n",
    "        {table_abbrev}.local_user_id != 0\n",
    "    group by {table_abbrev}.month, emn.user_name\n",
    ") global_edits\n",
    "where\n",
    "    edits >= 5 and\n",
    "    not bot_flag and \n",
    "    user_name not regexp \"bot\\\\b\"\n",
    "group by month\n",
    "\"\"\"\n",
    "\n",
    "emo_ae_new_names_sql = ae_new_names_sql.format(\n",
    "    table=\"editor_month_official\",\n",
    "    table_abbrev=\"emo\",\n",
    "    other_table=\"editor_month_new\",\n",
    "    other_table_abbrev=\"emn\"\n",
    ")\n",
    "\n",
    "emn_ae_new_names_sql = ae_new_names_sql.format(\n",
    "    table=\"editor_month_new\",\n",
    "    table_abbrev=\"emn\",\n",
    "    other_table=\"editor_month_official\",\n",
    "    other_table_abbrev=\"emo\"\n",
    ")\n",
    "\n",
    "emo_ae_new_names = hive.run(emo_ae_new_names_sql).assign(month=lambda df: pd.to_datetime(df[\"month\"])).set_index(\"month\")\n",
    "emn_ae_new_names = hive.run(emn_ae_new_names_sql).assign(month=lambda df: pd.to_datetime(df[\"month\"])).set_index(\"month\")"
   ]
  },
  {
   "cell_type": "code",
   "execution_count": 646,
   "metadata": {},
   "outputs": [
    {
     "data": {
      "image/png": "[encoded data removed]",
      "text/plain": [
       "<Figure size 1008x504 with 1 Axes>"
      ]
     },
     "metadata": {},
     "output_type": "display_data"
    }
   ],
   "source": [
    "(emn_ae_new_names - emo_ae_new_names)[\"2001\":].plot(\n",
    "    title=\"Deviation of 'new' active editors from 'official'\"\n",
    ");"
   ]
  },
  {
   "cell_type": "markdown",
   "metadata": {},
   "source": [
    "Only the `editor_month_official` active editors number would have changed, since we were already grouping `editor_month_new` by its own `user_name` column. But it looks like very little of that change happened in the past two years (the range covered by the above `differing_names` dataset."
   ]
  },
  {
   "cell_type": "code",
   "execution_count": 661,
   "metadata": {},
   "outputs": [
    {
     "data": {
      "text/plain": [
       "<matplotlib.axes._subplots.AxesSubplot at 0x7f5b27f34518>"
      ]
     },
     "execution_count": 661,
     "metadata": {},
     "output_type": "execute_result"
    },
    {
     "data": {
      "image/png": "[encoded data removed]",
      "text/plain": [
       "<Figure size 1008x504 with 1 Axes>"
      ]
     },
     "metadata": {},
     "output_type": "display_data"
    }
   ],
   "source": [
    "(emo_ae_equal_edits - emo_ae_new_names)[\"2001\":].plot()"
   ]
  },
  {
   "cell_type": "markdown",
   "metadata": {},
   "source": [
    "So let's get an older sample of differing-name rows and see what's going on."
   ]
  },
  {
   "cell_type": "code",
   "execution_count": 675,
   "metadata": {},
   "outputs": [],
   "source": [
    "older_matched_rows = hive.run([\n",
    "    \"set hive.resultset.use.unique.column.names=true\",\n",
    "    \"\"\"\n",
    "    select *\n",
    "    from neilpquinn.editor_month_official emo\n",
    "    inner join neilpquinn.editor_month_new emn\n",
    "    on\n",
    "        emo.month = emn.month and\n",
    "        emo.wiki = emn.wiki and\n",
    "        emo.local_user_id = emn.local_user_id\n",
    "    where\n",
    "        emo.month >= \"2005-01-01\" and\n",
    "        emo.month < \"2007-01-01\"\n",
    "    \"\"\"\n",
    "]).rename(columns=lambda x: x.replace(\".\", \"_\"))"
   ]
  },
  {
   "cell_type": "markdown",
   "metadata": {},
   "source": [
    "It looks like all of these are cases where `editor_month_new` has a null username, almost certainly cases of [T218463](https://phabricator.wikimedia.org/T218463). "
   ]
  },
  {
   "cell_type": "code",
   "execution_count": 688,
   "metadata": {},
   "outputs": [
    {
     "data": {
      "text/html": [
       "<div>\n",
       "<style scoped>\n",
       "    .dataframe tbody tr th:only-of-type {\n",
       "        vertical-align: middle;\n",
       "    }\n",
       "\n",
       "    .dataframe tbody tr th {\n",
       "        vertical-align: top;\n",
       "    }\n",
       "\n",
       "    .dataframe thead th {\n",
       "        text-align: right;\n",
       "    }\n",
       "</style>\n",
       "<table border=\"1\" class=\"dataframe\">\n",
       "  <thead>\n",
       "    <tr style=\"text-align: right;\">\n",
       "      <th></th>\n",
       "      <th>emo_wiki</th>\n",
       "      <th>emo_month</th>\n",
       "      <th>emo_user_name</th>\n",
       "      <th>emn_user_name</th>\n",
       "    </tr>\n",
       "  </thead>\n",
       "  <tbody>\n",
       "    <tr>\n",
       "      <th>1113468</th>\n",
       "      <td>enwiki</td>\n",
       "      <td>2005-08-01</td>\n",
       "      <td>Fortmac</td>\n",
       "      <td>None</td>\n",
       "    </tr>\n",
       "    <tr>\n",
       "      <th>3075910</th>\n",
       "      <td>enwikibooks</td>\n",
       "      <td>2006-03-01</td>\n",
       "      <td>Quamaretto~enwikibooks</td>\n",
       "      <td>None</td>\n",
       "    </tr>\n",
       "    <tr>\n",
       "      <th>1909442</th>\n",
       "      <td>ptwikibooks</td>\n",
       "      <td>2005-04-01</td>\n",
       "      <td>Lina bia~ptwikibooks</td>\n",
       "      <td>None</td>\n",
       "    </tr>\n",
       "    <tr>\n",
       "      <th>28928</th>\n",
       "      <td>dewiki</td>\n",
       "      <td>2005-08-01</td>\n",
       "      <td>Emme.pi.effe</td>\n",
       "      <td>None</td>\n",
       "    </tr>\n",
       "    <tr>\n",
       "      <th>1930370</th>\n",
       "      <td>zhwiki</td>\n",
       "      <td>2005-08-01</td>\n",
       "      <td>Adrianus innocens</td>\n",
       "      <td>None</td>\n",
       "    </tr>\n",
       "    <tr>\n",
       "      <th>2482232</th>\n",
       "      <td>enwiki</td>\n",
       "      <td>2005-10-01</td>\n",
       "      <td>Dstrange</td>\n",
       "      <td>None</td>\n",
       "    </tr>\n",
       "    <tr>\n",
       "      <th>1196632</th>\n",
       "      <td>incubatorwiki</td>\n",
       "      <td>2006-04-01</td>\n",
       "      <td>Rory096</td>\n",
       "      <td>None</td>\n",
       "    </tr>\n",
       "    <tr>\n",
       "      <th>2540197</th>\n",
       "      <td>dewiki</td>\n",
       "      <td>2006-04-01</td>\n",
       "      <td>Schiste</td>\n",
       "      <td>None</td>\n",
       "    </tr>\n",
       "    <tr>\n",
       "      <th>370409</th>\n",
       "      <td>simplewiki</td>\n",
       "      <td>2006-03-01</td>\n",
       "      <td>BorgHunter</td>\n",
       "      <td>None</td>\n",
       "    </tr>\n",
       "    <tr>\n",
       "      <th>1684400</th>\n",
       "      <td>enwiki</td>\n",
       "      <td>2005-12-01</td>\n",
       "      <td>TecoAndJix</td>\n",
       "      <td>None</td>\n",
       "    </tr>\n",
       "    <tr>\n",
       "      <th>1393804</th>\n",
       "      <td>nowiki</td>\n",
       "      <td>2005-09-01</td>\n",
       "      <td>Rbj~nowiki</td>\n",
       "      <td>None</td>\n",
       "    </tr>\n",
       "    <tr>\n",
       "      <th>44817</th>\n",
       "      <td>eowikiquote</td>\n",
       "      <td>2005-10-01</td>\n",
       "      <td></td>\n",
       "      <td>None</td>\n",
       "    </tr>\n",
       "    <tr>\n",
       "      <th>2959778</th>\n",
       "      <td>dewiki</td>\n",
       "      <td>2006-12-01</td>\n",
       "      <td>Sapfan</td>\n",
       "      <td>None</td>\n",
       "    </tr>\n",
       "    <tr>\n",
       "      <th>287141</th>\n",
       "      <td>itwiki</td>\n",
       "      <td>2005-05-01</td>\n",
       "      <td>Mauring~itwiki</td>\n",
       "      <td>None</td>\n",
       "    </tr>\n",
       "    <tr>\n",
       "      <th>709400</th>\n",
       "      <td>dewiki</td>\n",
       "      <td>2006-08-01</td>\n",
       "      <td>The Anomebot2</td>\n",
       "      <td>None</td>\n",
       "    </tr>\n",
       "    <tr>\n",
       "      <th>3141405</th>\n",
       "      <td>frwikibooks</td>\n",
       "      <td>2006-07-01</td>\n",
       "      <td>Peter17</td>\n",
       "      <td>None</td>\n",
       "    </tr>\n",
       "    <tr>\n",
       "      <th>2169965</th>\n",
       "      <td>enwiktionary</td>\n",
       "      <td>2005-01-01</td>\n",
       "      <td>Sysy~enwiktionary</td>\n",
       "      <td>None</td>\n",
       "    </tr>\n",
       "    <tr>\n",
       "      <th>2734868</th>\n",
       "      <td>hiwiki</td>\n",
       "      <td>2005-07-01</td>\n",
       "      <td>BD2412</td>\n",
       "      <td>None</td>\n",
       "    </tr>\n",
       "    <tr>\n",
       "      <th>2766850</th>\n",
       "      <td>enwiki</td>\n",
       "      <td>2005-12-01</td>\n",
       "      <td>Jeffreyg222</td>\n",
       "      <td>None</td>\n",
       "    </tr>\n",
       "    <tr>\n",
       "      <th>2200389</th>\n",
       "      <td>nlwiki</td>\n",
       "      <td>2005-08-01</td>\n",
       "      <td>Denial~nlwiki</td>\n",
       "      <td>None</td>\n",
       "    </tr>\n",
       "  </tbody>\n",
       "</table>\n",
       "</div>"
      ],
      "text/plain": [
       "              emo_wiki  emo_month           emo_user_name emn_user_name\n",
       "1113468         enwiki 2005-08-01                 Fortmac          None\n",
       "3075910    enwikibooks 2006-03-01  Quamaretto~enwikibooks          None\n",
       "1909442    ptwikibooks 2005-04-01    Lina bia~ptwikibooks          None\n",
       "28928           dewiki 2005-08-01            Emme.pi.effe          None\n",
       "1930370         zhwiki 2005-08-01       Adrianus innocens          None\n",
       "2482232         enwiki 2005-10-01                Dstrange          None\n",
       "1196632  incubatorwiki 2006-04-01                 Rory096          None\n",
       "2540197         dewiki 2006-04-01                 Schiste          None\n",
       "370409      simplewiki 2006-03-01              BorgHunter          None\n",
       "1684400         enwiki 2005-12-01              TecoAndJix          None\n",
       "1393804         nowiki 2005-09-01              Rbj~nowiki          None\n",
       "44817      eowikiquote 2005-10-01                                  None\n",
       "2959778         dewiki 2006-12-01                  Sapfan          None\n",
       "287141          itwiki 2005-05-01          Mauring~itwiki          None\n",
       "709400          dewiki 2006-08-01           The Anomebot2          None\n",
       "3141405    frwikibooks 2006-07-01                 Peter17          None\n",
       "2169965   enwiktionary 2005-01-01       Sysy~enwiktionary          None\n",
       "2734868         hiwiki 2005-07-01                  BD2412          None\n",
       "2766850         enwiki 2005-12-01             Jeffreyg222          None\n",
       "2200389         nlwiki 2005-08-01           Denial~nlwiki          None"
      ]
     },
     "execution_count": 688,
     "metadata": {},
     "output_type": "execute_result"
    }
   ],
   "source": [
    "older_matched_rows.query(\"emo_user_name != emn_user_name\")[\n",
    "    [\"emo_wiki\", \"emo_month\", \"emo_user_name\", \"emn_user_name\"]\n",
    "].sample(20)"
   ]
  },
  {
   "cell_type": "markdown",
   "metadata": {},
   "source": [
    "# Bot flag"
   ]
  },
  {
   "cell_type": "code",
   "execution_count": 41,
   "metadata": {},
   "outputs": [
    {
     "data": {
      "text/plain": [
       "0.00031501330226193103"
      ]
     },
     "execution_count": 41,
     "metadata": {},
     "output_type": "execute_result"
    }
   ],
   "source": [
    "differing_bot_flags = matched_rows.query(\"emo_bot_flag != emn_bot_flag\")\n",
    "len(differing_bot_flags) / len(matched_rows)"
   ]
  },
  {
   "cell_type": "markdown",
   "metadata": {},
   "source": [
    "* Grondin: briefly made themself a bot for a test in 2015\n",
    "* Gala\n",
    "* CommonsDelinker: made a local bot at tewiki on 2018-12-22\n",
    "\n",
    "* Does `mediawiki_history` look at the global bot group?"
   ]
  },
  {
   "cell_type": "code",
   "execution_count": 35,
   "metadata": {},
   "outputs": [
    {
     "data": {
      "text/html": [
       "<div>\n",
       "<table border=\"1\" class=\"dataframe\">\n",
       "  <thead>\n",
       "    <tr style=\"text-align: right;\">\n",
       "      <th></th>\n",
       "      <th>event_user_groups</th>\n",
       "      <th>event_user_groups_historical</th>\n",
       "    </tr>\n",
       "  </thead>\n",
       "  <tbody>\n",
       "    <tr>\n",
       "      <th>0</th>\n",
       "      <td>[\"accountcreator\",\"bureaucrat\",\"facilitator\",\"...</td>\n",
       "      <td>[\"sysop\",\"trusteduser\",\"facilitator\",\"bureaucr...</td>\n",
       "    </tr>\n",
       "  </tbody>\n",
       "</table>\n",
       "</div>"
      ],
      "text/plain": [
       "                                   event_user_groups  \\\n",
       "0  [\"accountcreator\",\"bureaucrat\",\"facilitator\",\"...   \n",
       "\n",
       "                        event_user_groups_historical  \n",
       "0  [\"sysop\",\"trusteduser\",\"facilitator\",\"bureaucr...  "
      ]
     },
     "execution_count": 35,
     "metadata": {},
     "output_type": "execute_result"
    }
   ],
   "source": [
    "hive.run(\"\"\"\n",
    "select\n",
    "    event_user_groups,\n",
    "    event_user_groups_historical\n",
    "from wmf.mediawiki_history\n",
    "where\n",
    "    wiki_db = \"frwikinews\" and\n",
    "    event_user_text = \"Grondin\" and\n",
    "    date_format(event_timestamp, \"yyyy-MM\") = \"2017-07\" and\n",
    "    event_entity = \"revision\" and\n",
    "    snapshot = \"2019-03\"\n",
    "limit 1\n",
    "\"\"\")"
   ]
  },
  {
   "cell_type": "code",
   "execution_count": 44,
   "metadata": {},
   "outputs": [
    {
     "data": {
      "text/plain": [
       "'[\"accountcreator\",\"bureaucrat\",\"facilitator\",\"interface-admin\",\"ipblock-exempt\",\"sysop\",\"trusteduser\"]'"
      ]
     },
     "execution_count": 44,
     "metadata": {},
     "output_type": "execute_result"
    }
   ],
   "source": [
    "_35.iloc[0, 0]"
   ]
  },
  {
   "cell_type": "code",
   "execution_count": 691,
   "metadata": {},
   "outputs": [
    {
     "data": {
      "text/html": [
       "<div>\n",
       "<style scoped>\n",
       "    .dataframe tbody tr th:only-of-type {\n",
       "        vertical-align: middle;\n",
       "    }\n",
       "\n",
       "    .dataframe tbody tr th {\n",
       "        vertical-align: top;\n",
       "    }\n",
       "\n",
       "    .dataframe thead th {\n",
       "        text-align: right;\n",
       "    }\n",
       "</style>\n",
       "<table border=\"1\" class=\"dataframe\">\n",
       "  <thead>\n",
       "    <tr style=\"text-align: right;\">\n",
       "      <th></th>\n",
       "      <th>emo_wiki</th>\n",
       "      <th>emo_month</th>\n",
       "      <th>emo_user_name</th>\n",
       "      <th>emo_bot_flag</th>\n",
       "      <th>emn_user_name</th>\n",
       "      <th>emn_bot_flag</th>\n",
       "    </tr>\n",
       "  </thead>\n",
       "  <tbody>\n",
       "    <tr>\n",
       "      <th>3699467</th>\n",
       "      <td>tewiki</td>\n",
       "      <td>2018-05-01</td>\n",
       "      <td>CommonsDelinker</td>\n",
       "      <td>False</td>\n",
       "      <td>CommonsDelinker</td>\n",
       "      <td>True</td>\n",
       "    </tr>\n",
       "    <tr>\n",
       "      <th>154172</th>\n",
       "      <td>frwikinews</td>\n",
       "      <td>2017-07-01</td>\n",
       "      <td>Grondin</td>\n",
       "      <td>True</td>\n",
       "      <td>Grondin</td>\n",
       "      <td>False</td>\n",
       "    </tr>\n",
       "    <tr>\n",
       "      <th>3171027</th>\n",
       "      <td>eswikivoyage</td>\n",
       "      <td>2018-10-01</td>\n",
       "      <td>Galahad</td>\n",
       "      <td>True</td>\n",
       "      <td>Galahad</td>\n",
       "      <td>False</td>\n",
       "    </tr>\n",
       "    <tr>\n",
       "      <th>8666077</th>\n",
       "      <td>enwiki</td>\n",
       "      <td>2017-08-01</td>\n",
       "      <td>William Avery Bot</td>\n",
       "      <td>False</td>\n",
       "      <td>William Avery Bot</td>\n",
       "      <td>True</td>\n",
       "    </tr>\n",
       "    <tr>\n",
       "      <th>7449846</th>\n",
       "      <td>itwikisource</td>\n",
       "      <td>2017-11-01</td>\n",
       "      <td>Alex brollo</td>\n",
       "      <td>True</td>\n",
       "      <td>Alex brollo</td>\n",
       "      <td>False</td>\n",
       "    </tr>\n",
       "    <tr>\n",
       "      <th>5162349</th>\n",
       "      <td>kkwiki</td>\n",
       "      <td>2018-11-01</td>\n",
       "      <td>Нұрлан Рахымжанов</td>\n",
       "      <td>True</td>\n",
       "      <td>Нұрлан Рахымжанов</td>\n",
       "      <td>False</td>\n",
       "    </tr>\n",
       "    <tr>\n",
       "      <th>2796282</th>\n",
       "      <td>nlwiki</td>\n",
       "      <td>2017-08-01</td>\n",
       "      <td>Wiki13</td>\n",
       "      <td>True</td>\n",
       "      <td>Wiki13</td>\n",
       "      <td>False</td>\n",
       "    </tr>\n",
       "    <tr>\n",
       "      <th>4750702</th>\n",
       "      <td>eswiktionary</td>\n",
       "      <td>2017-08-01</td>\n",
       "      <td>BotSinNombre</td>\n",
       "      <td>True</td>\n",
       "      <td>BotSinNombre</td>\n",
       "      <td>False</td>\n",
       "    </tr>\n",
       "    <tr>\n",
       "      <th>5490526</th>\n",
       "      <td>ptwiki</td>\n",
       "      <td>2017-11-01</td>\n",
       "      <td>RadiX</td>\n",
       "      <td>True</td>\n",
       "      <td>RadiX</td>\n",
       "      <td>False</td>\n",
       "    </tr>\n",
       "    <tr>\n",
       "      <th>3777386</th>\n",
       "      <td>tewiki</td>\n",
       "      <td>2018-08-01</td>\n",
       "      <td>ChaduvariAWBNew</td>\n",
       "      <td>False</td>\n",
       "      <td>ChaduvariAWBNew</td>\n",
       "      <td>True</td>\n",
       "    </tr>\n",
       "    <tr>\n",
       "      <th>646910</th>\n",
       "      <td>liwiktionary</td>\n",
       "      <td>2019-01-01</td>\n",
       "      <td>Ooswesthoesbes</td>\n",
       "      <td>True</td>\n",
       "      <td>Ooswesthoesbes</td>\n",
       "      <td>False</td>\n",
       "    </tr>\n",
       "    <tr>\n",
       "      <th>8032680</th>\n",
       "      <td>cswiki</td>\n",
       "      <td>2017-09-01</td>\n",
       "      <td>JAn Dudík</td>\n",
       "      <td>True</td>\n",
       "      <td>JAn Dudík</td>\n",
       "      <td>False</td>\n",
       "    </tr>\n",
       "    <tr>\n",
       "      <th>1454077</th>\n",
       "      <td>enwiki</td>\n",
       "      <td>2017-07-01</td>\n",
       "      <td>SportsStatsBot</td>\n",
       "      <td>False</td>\n",
       "      <td>SportsStatsBot</td>\n",
       "      <td>True</td>\n",
       "    </tr>\n",
       "    <tr>\n",
       "      <th>6255109</th>\n",
       "      <td>specieswiki</td>\n",
       "      <td>2018-03-01</td>\n",
       "      <td>OhanaUnited</td>\n",
       "      <td>True</td>\n",
       "      <td>OhanaUnited</td>\n",
       "      <td>False</td>\n",
       "    </tr>\n",
       "    <tr>\n",
       "      <th>8626952</th>\n",
       "      <td>metawiki</td>\n",
       "      <td>2017-06-01</td>\n",
       "      <td>AswnBot</td>\n",
       "      <td>False</td>\n",
       "      <td>AswnBot</td>\n",
       "      <td>True</td>\n",
       "    </tr>\n",
       "    <tr>\n",
       "      <th>5162840</th>\n",
       "      <td>metawiki</td>\n",
       "      <td>2018-11-01</td>\n",
       "      <td>Tbayer (WMF)</td>\n",
       "      <td>True</td>\n",
       "      <td>Tbayer (WMF)</td>\n",
       "      <td>False</td>\n",
       "    </tr>\n",
       "    <tr>\n",
       "      <th>5794554</th>\n",
       "      <td>bnwiki</td>\n",
       "      <td>2018-11-01</td>\n",
       "      <td>ListeriaBot</td>\n",
       "      <td>False</td>\n",
       "      <td>ListeriaBot</td>\n",
       "      <td>True</td>\n",
       "    </tr>\n",
       "    <tr>\n",
       "      <th>8026979</th>\n",
       "      <td>urwiki</td>\n",
       "      <td>2017-08-01</td>\n",
       "      <td>BukhariSaeed</td>\n",
       "      <td>True</td>\n",
       "      <td>BukhariSaeed</td>\n",
       "      <td>False</td>\n",
       "    </tr>\n",
       "    <tr>\n",
       "      <th>6635011</th>\n",
       "      <td>huwiki</td>\n",
       "      <td>2017-05-01</td>\n",
       "      <td>Samat</td>\n",
       "      <td>True</td>\n",
       "      <td>Samat</td>\n",
       "      <td>False</td>\n",
       "    </tr>\n",
       "    <tr>\n",
       "      <th>5411487</th>\n",
       "      <td>srwikiquote</td>\n",
       "      <td>2017-08-01</td>\n",
       "      <td>Ранко Николић</td>\n",
       "      <td>True</td>\n",
       "      <td>Ранко Николић</td>\n",
       "      <td>False</td>\n",
       "    </tr>\n",
       "  </tbody>\n",
       "</table>\n",
       "</div>"
      ],
      "text/plain": [
       "             emo_wiki  emo_month      emo_user_name  emo_bot_flag  \\\n",
       "3699467        tewiki 2018-05-01    CommonsDelinker         False   \n",
       "154172     frwikinews 2017-07-01            Grondin          True   \n",
       "3171027  eswikivoyage 2018-10-01            Galahad          True   \n",
       "8666077        enwiki 2017-08-01  William Avery Bot         False   \n",
       "7449846  itwikisource 2017-11-01        Alex brollo          True   \n",
       "5162349        kkwiki 2018-11-01  Нұрлан Рахымжанов          True   \n",
       "2796282        nlwiki 2017-08-01             Wiki13          True   \n",
       "4750702  eswiktionary 2017-08-01       BotSinNombre          True   \n",
       "5490526        ptwiki 2017-11-01              RadiX          True   \n",
       "3777386        tewiki 2018-08-01    ChaduvariAWBNew         False   \n",
       "646910   liwiktionary 2019-01-01     Ooswesthoesbes          True   \n",
       "8032680        cswiki 2017-09-01          JAn Dudík          True   \n",
       "1454077        enwiki 2017-07-01     SportsStatsBot         False   \n",
       "6255109   specieswiki 2018-03-01        OhanaUnited          True   \n",
       "8626952      metawiki 2017-06-01            AswnBot         False   \n",
       "5162840      metawiki 2018-11-01       Tbayer (WMF)          True   \n",
       "5794554        bnwiki 2018-11-01        ListeriaBot         False   \n",
       "8026979        urwiki 2017-08-01       BukhariSaeed          True   \n",
       "6635011        huwiki 2017-05-01              Samat          True   \n",
       "5411487   srwikiquote 2017-08-01      Ранко Николић          True   \n",
       "\n",
       "             emn_user_name  emn_bot_flag  \n",
       "3699467    CommonsDelinker          True  \n",
       "154172             Grondin         False  \n",
       "3171027            Galahad         False  \n",
       "8666077  William Avery Bot          True  \n",
       "7449846        Alex brollo         False  \n",
       "5162349  Нұрлан Рахымжанов         False  \n",
       "2796282             Wiki13         False  \n",
       "4750702       BotSinNombre         False  \n",
       "5490526              RadiX         False  \n",
       "3777386    ChaduvariAWBNew          True  \n",
       "646910      Ooswesthoesbes         False  \n",
       "8032680          JAn Dudík         False  \n",
       "1454077     SportsStatsBot          True  \n",
       "6255109        OhanaUnited         False  \n",
       "8626952            AswnBot          True  \n",
       "5162840       Tbayer (WMF)         False  \n",
       "5794554        ListeriaBot          True  \n",
       "8026979       BukhariSaeed         False  \n",
       "6635011              Samat         False  \n",
       "5411487      Ранко Николић         False  "
      ]
     },
     "execution_count": 691,
     "metadata": {},
     "output_type": "execute_result"
    }
   ],
   "source": [
    "bot_flag_columns = [\n",
    "    \"emo_wiki\",\n",
    "    \"emo_month\",\n",
    "    \"emo_user_name\",\n",
    "    \"emo_bot_flag\",\n",
    "    \"emn_user_name\",\n",
    "    \"emn_bot_flag\"\n",
    "]\n",
    "\n",
    ".sample(20)[bot_flag_columns]"
   ]
  },
  {
   "cell_type": "code",
   "execution_count": null,
   "metadata": {},
   "outputs": [],
   "source": []
  },
  {
   "cell_type": "code",
   "execution_count": null,
   "metadata": {},
   "outputs": [],
   "source": []
  },
  {
   "cell_type": "code",
   "execution_count": null,
   "metadata": {},
   "outputs": [],
   "source": []
  },
  {
   "cell_type": "code",
   "execution_count": 573,
   "metadata": {},
   "outputs": [
    {
     "data": {
      "text/plain": [
       "0.025009345467502914"
      ]
     },
     "execution_count": 573,
     "metadata": {},
     "output_type": "execute_result"
    }
   ],
   "source": [
    "len(matched_rows.query(\"emo_user_registration != emn_user_registration\")) / rows"
   ]
  }
 ],
 "metadata": {
  "kernelspec": {
   "display_name": "Python 3",
   "language": "python",
   "name": "python3"
  },
  "language_info": {
   "codemirror_mode": {
    "name": "ipython",
    "version": 3
   },
   "file_extension": ".py",
   "mimetype": "text/x-python",
   "name": "python",
   "nbconvert_exporter": "python",
   "pygments_lexer": "ipython3",
   "version": "3.5.3"
  }
 },
 "nbformat": 4,
 "nbformat_minor": 2
}
